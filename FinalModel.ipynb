{
  "nbformat": 4,
  "nbformat_minor": 0,
  "metadata": {
    "colab": {
      "provenance": [],
      "mount_file_id": "1vL8Gqy-3cbMonXmWkkBmNQ9UO31ro5r3",
      "authorship_tag": "ABX9TyN1hr5WIYLnQtBKeTUNKUG7",
      "include_colab_link": true
    },
    "kernelspec": {
      "name": "python3",
      "display_name": "Python 3"
    },
    "language_info": {
      "name": "python"
    }
  },
  "cells": [
    {
      "cell_type": "markdown",
      "metadata": {
        "id": "view-in-github",
        "colab_type": "text"
      },
      "source": [
        "<a href=\"https://colab.research.google.com/github/DSLUCIFER/Network-intrusion-detection/blob/main/FinalModel.ipynb\" target=\"_parent\"><img src=\"https://colab.research.google.com/assets/colab-badge.svg\" alt=\"Open In Colab\"/></a>"
      ]
    },
    {
      "cell_type": "code",
      "execution_count": 1,
      "metadata": {
        "id": "ts7D3P0nR4Gz"
      },
      "outputs": [],
      "source": [
        "import pandas as pd\n",
        "from sklearn.model_selection import train_test_split\n",
        "from sklearn.preprocessing import StandardScaler\n",
        "from sklearn.preprocessing import LabelEncoder\n",
        "from sklearn.metrics import classification_report, accuracy_score\n",
        "#%run svm_algorithm.ipynb\n",
        "import smtplib\n",
        "from email.mime.text import MIMEText\n",
        "from email.mime.multipart import MIMEMultipart\n",
        "import socket\n",
        "import struct\n",
        "import os"
      ]
    },
    {
      "cell_type": "code",
      "source": [
        "import numpy as np\n",
        "\n",
        "class SVM:\n",
        "    def __init__(self, learning_rate=0.2, lambda_param=0.01, n_iters=10):\n",
        "        self.lr = learning_rate\n",
        "        self.lambda_param = lambda_param\n",
        "        self.n_iters = n_iters\n",
        "        self.w = None\n",
        "        self.b = None\n",
        "\n",
        "    def fit(self, X, y):\n",
        "        n_samples, n_features = X.shape\n",
        "        y_binary = np.where(y == 'A', 1, 0)\n",
        "        self.w = np.zeros(n_features)\n",
        "        self.b = 0\n",
        "\n",
        "        for _ in range(self.n_iters):\n",
        "            for idx, x_i in enumerate(X):\n",
        "                condition = y_binary[idx] * (np.dot(x_i, self.w) - self.b) >= 1\n",
        "                if condition:\n",
        "                    self.w -= self.lr * (2 * self.lambda_param * self.w)\n",
        "                else:\n",
        "                    self.w -= self.lr * (2 * self.lambda_param * self.w - np.dot(x_i, y_binary[idx]))\n",
        "                    self.b -= self.lr * y_binary[idx]\n",
        "\n",
        "    def predict(self, X):\n",
        "        approx = np.dot(X, self.w) - self.b\n",
        "        return np.sign(approx)\n"
      ],
      "metadata": {
        "id": "bMIghOp0EE4c"
      },
      "execution_count": 2,
      "outputs": []
    },
    {
      "cell_type": "code",
      "source": [
        "# Load dataset\n",
        "df = pd.read_csv('final.csv')"
      ],
      "metadata": {
        "id": "t7nuz3gpSUKZ"
      },
      "execution_count": 3,
      "outputs": []
    },
    {
      "cell_type": "code",
      "source": [
        "df.shape"
      ],
      "metadata": {
        "colab": {
          "base_uri": "https://localhost:8080/"
        },
        "id": "TAXHeT2SY4t0",
        "outputId": "a68a08d8-7420-4921-a388-3e5582e379d8"
      },
      "execution_count": 4,
      "outputs": [
        {
          "output_type": "execute_result",
          "data": {
            "text/plain": [
              "(149043, 14)"
            ]
          },
          "metadata": {},
          "execution_count": 4
        }
      ]
    },
    {
      "cell_type": "code",
      "source": [
        "print(df.columns)"
      ],
      "metadata": {
        "colab": {
          "base_uri": "https://localhost:8080/"
        },
        "id": "ZJiFkOyvHuxX",
        "outputId": "3cd1d464-742a-4e5c-fc60-2019f55153dd"
      },
      "execution_count": 6,
      "outputs": [
        {
          "output_type": "stream",
          "name": "stdout",
          "text": [
            "Index(['Time', 'Protcol', 'Flag', 'Family', 'Clusters', 'SeddAddress',\n",
            "       'ExpAddress', 'BTC', 'USD', 'Netflow_Bytes', 'IPaddress', 'Threats',\n",
            "       'Port', 'Prediction'],\n",
            "      dtype='object')\n"
          ]
        }
      ]
    },
    {
      "cell_type": "code",
      "source": [
        "df.head()"
      ],
      "metadata": {
        "colab": {
          "base_uri": "https://localhost:8080/",
          "height": 206
        },
        "id": "8OsDHT4MVQ2-",
        "outputId": "0daec9c2-4e39-444c-b915-202d602d3ccf"
      },
      "execution_count": 7,
      "outputs": [
        {
          "output_type": "execute_result",
          "data": {
            "text/plain": [
              "   Time Protcol Flag    Family  Clusters SeddAddress ExpAddress  BTC  USD  \\\n",
              "0    50     TCP    A  WannaCry         1    1DA11mPS   1BonuSr7    1  500   \n",
              "1    40     TCP    A  WannaCry         1    1DA11mPS   1BonuSr7    1  504   \n",
              "2    30     TCP    A  WannaCry         1    1DA11mPS   1BonuSr7    1  508   \n",
              "3    20     TCP    A  WannaCry         1    1DA11mPS   1BonuSr7    1  512   \n",
              "4    57     TCP    A  WannaCry         1    1DA11mPS   1BonuSr7    1  516   \n",
              "\n",
              "   Netflow_Bytes IPaddress Threats  Port Prediction  \n",
              "0              5         A   Bonet  5061         SS  \n",
              "1              8         A   Bonet  5061         SS  \n",
              "2              7         A   Bonet  5061         SS  \n",
              "3             15         A   Bonet  5061         SS  \n",
              "4              9         A   Bonet  5061         SS  "
            ],
            "text/html": [
              "\n",
              "  <div id=\"df-a34438e1-201e-4de2-b47d-de75e38b46eb\" class=\"colab-df-container\">\n",
              "    <div>\n",
              "<style scoped>\n",
              "    .dataframe tbody tr th:only-of-type {\n",
              "        vertical-align: middle;\n",
              "    }\n",
              "\n",
              "    .dataframe tbody tr th {\n",
              "        vertical-align: top;\n",
              "    }\n",
              "\n",
              "    .dataframe thead th {\n",
              "        text-align: right;\n",
              "    }\n",
              "</style>\n",
              "<table border=\"1\" class=\"dataframe\">\n",
              "  <thead>\n",
              "    <tr style=\"text-align: right;\">\n",
              "      <th></th>\n",
              "      <th>Time</th>\n",
              "      <th>Protcol</th>\n",
              "      <th>Flag</th>\n",
              "      <th>Family</th>\n",
              "      <th>Clusters</th>\n",
              "      <th>SeddAddress</th>\n",
              "      <th>ExpAddress</th>\n",
              "      <th>BTC</th>\n",
              "      <th>USD</th>\n",
              "      <th>Netflow_Bytes</th>\n",
              "      <th>IPaddress</th>\n",
              "      <th>Threats</th>\n",
              "      <th>Port</th>\n",
              "      <th>Prediction</th>\n",
              "    </tr>\n",
              "  </thead>\n",
              "  <tbody>\n",
              "    <tr>\n",
              "      <th>0</th>\n",
              "      <td>50</td>\n",
              "      <td>TCP</td>\n",
              "      <td>A</td>\n",
              "      <td>WannaCry</td>\n",
              "      <td>1</td>\n",
              "      <td>1DA11mPS</td>\n",
              "      <td>1BonuSr7</td>\n",
              "      <td>1</td>\n",
              "      <td>500</td>\n",
              "      <td>5</td>\n",
              "      <td>A</td>\n",
              "      <td>Bonet</td>\n",
              "      <td>5061</td>\n",
              "      <td>SS</td>\n",
              "    </tr>\n",
              "    <tr>\n",
              "      <th>1</th>\n",
              "      <td>40</td>\n",
              "      <td>TCP</td>\n",
              "      <td>A</td>\n",
              "      <td>WannaCry</td>\n",
              "      <td>1</td>\n",
              "      <td>1DA11mPS</td>\n",
              "      <td>1BonuSr7</td>\n",
              "      <td>1</td>\n",
              "      <td>504</td>\n",
              "      <td>8</td>\n",
              "      <td>A</td>\n",
              "      <td>Bonet</td>\n",
              "      <td>5061</td>\n",
              "      <td>SS</td>\n",
              "    </tr>\n",
              "    <tr>\n",
              "      <th>2</th>\n",
              "      <td>30</td>\n",
              "      <td>TCP</td>\n",
              "      <td>A</td>\n",
              "      <td>WannaCry</td>\n",
              "      <td>1</td>\n",
              "      <td>1DA11mPS</td>\n",
              "      <td>1BonuSr7</td>\n",
              "      <td>1</td>\n",
              "      <td>508</td>\n",
              "      <td>7</td>\n",
              "      <td>A</td>\n",
              "      <td>Bonet</td>\n",
              "      <td>5061</td>\n",
              "      <td>SS</td>\n",
              "    </tr>\n",
              "    <tr>\n",
              "      <th>3</th>\n",
              "      <td>20</td>\n",
              "      <td>TCP</td>\n",
              "      <td>A</td>\n",
              "      <td>WannaCry</td>\n",
              "      <td>1</td>\n",
              "      <td>1DA11mPS</td>\n",
              "      <td>1BonuSr7</td>\n",
              "      <td>1</td>\n",
              "      <td>512</td>\n",
              "      <td>15</td>\n",
              "      <td>A</td>\n",
              "      <td>Bonet</td>\n",
              "      <td>5061</td>\n",
              "      <td>SS</td>\n",
              "    </tr>\n",
              "    <tr>\n",
              "      <th>4</th>\n",
              "      <td>57</td>\n",
              "      <td>TCP</td>\n",
              "      <td>A</td>\n",
              "      <td>WannaCry</td>\n",
              "      <td>1</td>\n",
              "      <td>1DA11mPS</td>\n",
              "      <td>1BonuSr7</td>\n",
              "      <td>1</td>\n",
              "      <td>516</td>\n",
              "      <td>9</td>\n",
              "      <td>A</td>\n",
              "      <td>Bonet</td>\n",
              "      <td>5061</td>\n",
              "      <td>SS</td>\n",
              "    </tr>\n",
              "  </tbody>\n",
              "</table>\n",
              "</div>\n",
              "    <div class=\"colab-df-buttons\">\n",
              "\n",
              "  <div class=\"colab-df-container\">\n",
              "    <button class=\"colab-df-convert\" onclick=\"convertToInteractive('df-a34438e1-201e-4de2-b47d-de75e38b46eb')\"\n",
              "            title=\"Convert this dataframe to an interactive table.\"\n",
              "            style=\"display:none;\">\n",
              "\n",
              "  <svg xmlns=\"http://www.w3.org/2000/svg\" height=\"24px\" viewBox=\"0 -960 960 960\">\n",
              "    <path d=\"M120-120v-720h720v720H120Zm60-500h600v-160H180v160Zm220 220h160v-160H400v160Zm0 220h160v-160H400v160ZM180-400h160v-160H180v160Zm440 0h160v-160H620v160ZM180-180h160v-160H180v160Zm440 0h160v-160H620v160Z\"/>\n",
              "  </svg>\n",
              "    </button>\n",
              "\n",
              "  <style>\n",
              "    .colab-df-container {\n",
              "      display:flex;\n",
              "      gap: 12px;\n",
              "    }\n",
              "\n",
              "    .colab-df-convert {\n",
              "      background-color: #E8F0FE;\n",
              "      border: none;\n",
              "      border-radius: 50%;\n",
              "      cursor: pointer;\n",
              "      display: none;\n",
              "      fill: #1967D2;\n",
              "      height: 32px;\n",
              "      padding: 0 0 0 0;\n",
              "      width: 32px;\n",
              "    }\n",
              "\n",
              "    .colab-df-convert:hover {\n",
              "      background-color: #E2EBFA;\n",
              "      box-shadow: 0px 1px 2px rgba(60, 64, 67, 0.3), 0px 1px 3px 1px rgba(60, 64, 67, 0.15);\n",
              "      fill: #174EA6;\n",
              "    }\n",
              "\n",
              "    .colab-df-buttons div {\n",
              "      margin-bottom: 4px;\n",
              "    }\n",
              "\n",
              "    [theme=dark] .colab-df-convert {\n",
              "      background-color: #3B4455;\n",
              "      fill: #D2E3FC;\n",
              "    }\n",
              "\n",
              "    [theme=dark] .colab-df-convert:hover {\n",
              "      background-color: #434B5C;\n",
              "      box-shadow: 0px 1px 3px 1px rgba(0, 0, 0, 0.15);\n",
              "      filter: drop-shadow(0px 1px 2px rgba(0, 0, 0, 0.3));\n",
              "      fill: #FFFFFF;\n",
              "    }\n",
              "  </style>\n",
              "\n",
              "    <script>\n",
              "      const buttonEl =\n",
              "        document.querySelector('#df-a34438e1-201e-4de2-b47d-de75e38b46eb button.colab-df-convert');\n",
              "      buttonEl.style.display =\n",
              "        google.colab.kernel.accessAllowed ? 'block' : 'none';\n",
              "\n",
              "      async function convertToInteractive(key) {\n",
              "        const element = document.querySelector('#df-a34438e1-201e-4de2-b47d-de75e38b46eb');\n",
              "        const dataTable =\n",
              "          await google.colab.kernel.invokeFunction('convertToInteractive',\n",
              "                                                    [key], {});\n",
              "        if (!dataTable) return;\n",
              "\n",
              "        const docLinkHtml = 'Like what you see? Visit the ' +\n",
              "          '<a target=\"_blank\" href=https://colab.research.google.com/notebooks/data_table.ipynb>data table notebook</a>'\n",
              "          + ' to learn more about interactive tables.';\n",
              "        element.innerHTML = '';\n",
              "        dataTable['output_type'] = 'display_data';\n",
              "        await google.colab.output.renderOutput(dataTable, element);\n",
              "        const docLink = document.createElement('div');\n",
              "        docLink.innerHTML = docLinkHtml;\n",
              "        element.appendChild(docLink);\n",
              "      }\n",
              "    </script>\n",
              "  </div>\n",
              "\n",
              "\n",
              "<div id=\"df-82b64fd0-6887-4bd8-bdae-63ff68406350\">\n",
              "  <button class=\"colab-df-quickchart\" onclick=\"quickchart('df-82b64fd0-6887-4bd8-bdae-63ff68406350')\"\n",
              "            title=\"Suggest charts\"\n",
              "            style=\"display:none;\">\n",
              "\n",
              "<svg xmlns=\"http://www.w3.org/2000/svg\" height=\"24px\"viewBox=\"0 0 24 24\"\n",
              "     width=\"24px\">\n",
              "    <g>\n",
              "        <path d=\"M19 3H5c-1.1 0-2 .9-2 2v14c0 1.1.9 2 2 2h14c1.1 0 2-.9 2-2V5c0-1.1-.9-2-2-2zM9 17H7v-7h2v7zm4 0h-2V7h2v10zm4 0h-2v-4h2v4z\"/>\n",
              "    </g>\n",
              "</svg>\n",
              "  </button>\n",
              "\n",
              "<style>\n",
              "  .colab-df-quickchart {\n",
              "      --bg-color: #E8F0FE;\n",
              "      --fill-color: #1967D2;\n",
              "      --hover-bg-color: #E2EBFA;\n",
              "      --hover-fill-color: #174EA6;\n",
              "      --disabled-fill-color: #AAA;\n",
              "      --disabled-bg-color: #DDD;\n",
              "  }\n",
              "\n",
              "  [theme=dark] .colab-df-quickchart {\n",
              "      --bg-color: #3B4455;\n",
              "      --fill-color: #D2E3FC;\n",
              "      --hover-bg-color: #434B5C;\n",
              "      --hover-fill-color: #FFFFFF;\n",
              "      --disabled-bg-color: #3B4455;\n",
              "      --disabled-fill-color: #666;\n",
              "  }\n",
              "\n",
              "  .colab-df-quickchart {\n",
              "    background-color: var(--bg-color);\n",
              "    border: none;\n",
              "    border-radius: 50%;\n",
              "    cursor: pointer;\n",
              "    display: none;\n",
              "    fill: var(--fill-color);\n",
              "    height: 32px;\n",
              "    padding: 0;\n",
              "    width: 32px;\n",
              "  }\n",
              "\n",
              "  .colab-df-quickchart:hover {\n",
              "    background-color: var(--hover-bg-color);\n",
              "    box-shadow: 0 1px 2px rgba(60, 64, 67, 0.3), 0 1px 3px 1px rgba(60, 64, 67, 0.15);\n",
              "    fill: var(--button-hover-fill-color);\n",
              "  }\n",
              "\n",
              "  .colab-df-quickchart-complete:disabled,\n",
              "  .colab-df-quickchart-complete:disabled:hover {\n",
              "    background-color: var(--disabled-bg-color);\n",
              "    fill: var(--disabled-fill-color);\n",
              "    box-shadow: none;\n",
              "  }\n",
              "\n",
              "  .colab-df-spinner {\n",
              "    border: 2px solid var(--fill-color);\n",
              "    border-color: transparent;\n",
              "    border-bottom-color: var(--fill-color);\n",
              "    animation:\n",
              "      spin 1s steps(1) infinite;\n",
              "  }\n",
              "\n",
              "  @keyframes spin {\n",
              "    0% {\n",
              "      border-color: transparent;\n",
              "      border-bottom-color: var(--fill-color);\n",
              "      border-left-color: var(--fill-color);\n",
              "    }\n",
              "    20% {\n",
              "      border-color: transparent;\n",
              "      border-left-color: var(--fill-color);\n",
              "      border-top-color: var(--fill-color);\n",
              "    }\n",
              "    30% {\n",
              "      border-color: transparent;\n",
              "      border-left-color: var(--fill-color);\n",
              "      border-top-color: var(--fill-color);\n",
              "      border-right-color: var(--fill-color);\n",
              "    }\n",
              "    40% {\n",
              "      border-color: transparent;\n",
              "      border-right-color: var(--fill-color);\n",
              "      border-top-color: var(--fill-color);\n",
              "    }\n",
              "    60% {\n",
              "      border-color: transparent;\n",
              "      border-right-color: var(--fill-color);\n",
              "    }\n",
              "    80% {\n",
              "      border-color: transparent;\n",
              "      border-right-color: var(--fill-color);\n",
              "      border-bottom-color: var(--fill-color);\n",
              "    }\n",
              "    90% {\n",
              "      border-color: transparent;\n",
              "      border-bottom-color: var(--fill-color);\n",
              "    }\n",
              "  }\n",
              "</style>\n",
              "\n",
              "  <script>\n",
              "    async function quickchart(key) {\n",
              "      const quickchartButtonEl =\n",
              "        document.querySelector('#' + key + ' button');\n",
              "      quickchartButtonEl.disabled = true;  // To prevent multiple clicks.\n",
              "      quickchartButtonEl.classList.add('colab-df-spinner');\n",
              "      try {\n",
              "        const charts = await google.colab.kernel.invokeFunction(\n",
              "            'suggestCharts', [key], {});\n",
              "      } catch (error) {\n",
              "        console.error('Error during call to suggestCharts:', error);\n",
              "      }\n",
              "      quickchartButtonEl.classList.remove('colab-df-spinner');\n",
              "      quickchartButtonEl.classList.add('colab-df-quickchart-complete');\n",
              "    }\n",
              "    (() => {\n",
              "      let quickchartButtonEl =\n",
              "        document.querySelector('#df-82b64fd0-6887-4bd8-bdae-63ff68406350 button');\n",
              "      quickchartButtonEl.style.display =\n",
              "        google.colab.kernel.accessAllowed ? 'block' : 'none';\n",
              "    })();\n",
              "  </script>\n",
              "</div>\n",
              "\n",
              "    </div>\n",
              "  </div>\n"
            ],
            "application/vnd.google.colaboratory.intrinsic+json": {
              "type": "dataframe",
              "variable_name": "df"
            }
          },
          "metadata": {},
          "execution_count": 7
        }
      ]
    },
    {
      "cell_type": "code",
      "source": [
        "df.dtypes"
      ],
      "metadata": {
        "colab": {
          "base_uri": "https://localhost:8080/"
        },
        "id": "0APGQ-5zWIbk",
        "outputId": "7353c3d2-6740-4680-bd5c-8c2aef0d6445"
      },
      "execution_count": 8,
      "outputs": [
        {
          "output_type": "execute_result",
          "data": {
            "text/plain": [
              "Time              int64\n",
              "Protcol          object\n",
              "Flag             object\n",
              "Family           object\n",
              "Clusters          int64\n",
              "SeddAddress      object\n",
              "ExpAddress       object\n",
              "BTC               int64\n",
              "USD               int64\n",
              "Netflow_Bytes     int64\n",
              "IPaddress        object\n",
              "Threats          object\n",
              "Port              int64\n",
              "Prediction       object\n",
              "dtype: object"
            ]
          },
          "metadata": {},
          "execution_count": 8
        }
      ]
    },
    {
      "cell_type": "code",
      "source": [
        "df.info()"
      ],
      "metadata": {
        "colab": {
          "base_uri": "https://localhost:8080/"
        },
        "id": "HNGkJt2AIERo",
        "outputId": "c6037b82-3833-4a2c-8590-a147bcc38834"
      },
      "execution_count": 9,
      "outputs": [
        {
          "output_type": "stream",
          "name": "stdout",
          "text": [
            "<class 'pandas.core.frame.DataFrame'>\n",
            "RangeIndex: 149043 entries, 0 to 149042\n",
            "Data columns (total 14 columns):\n",
            " #   Column         Non-Null Count   Dtype \n",
            "---  ------         --------------   ----- \n",
            " 0   Time           149043 non-null  int64 \n",
            " 1   Protcol        149043 non-null  object\n",
            " 2   Flag           149043 non-null  object\n",
            " 3   Family         149043 non-null  object\n",
            " 4   Clusters       149043 non-null  int64 \n",
            " 5   SeddAddress    149043 non-null  object\n",
            " 6   ExpAddress     149043 non-null  object\n",
            " 7   BTC            149043 non-null  int64 \n",
            " 8   USD            149043 non-null  int64 \n",
            " 9   Netflow_Bytes  149043 non-null  int64 \n",
            " 10  IPaddress      149043 non-null  object\n",
            " 11  Threats        149043 non-null  object\n",
            " 12  Port           149043 non-null  int64 \n",
            " 13  Prediction     149043 non-null  object\n",
            "dtypes: int64(6), object(8)\n",
            "memory usage: 15.9+ MB\n"
          ]
        }
      ]
    },
    {
      "cell_type": "code",
      "source": [
        "df.boxplot(column='Time')"
      ],
      "metadata": {
        "colab": {
          "base_uri": "https://localhost:8080/",
          "height": 449
        },
        "id": "_JpdwsoNIZI9",
        "outputId": "657237e1-59f5-4503-f7b8-862288b60646"
      },
      "execution_count": 10,
      "outputs": [
        {
          "output_type": "execute_result",
          "data": {
            "text/plain": [
              "<Axes: >"
            ]
          },
          "metadata": {},
          "execution_count": 10
        },
        {
          "output_type": "display_data",
          "data": {
            "text/plain": [
              "<Figure size 640x480 with 1 Axes>"
            ],
            "image/png": "[encoded data removed]"
          },
          "metadata": {}
        }
      ]
    },
    {
      "cell_type": "code",
      "source": [
        "df.boxplot(column='BTC')"
      ],
      "metadata": {
        "colab": {
          "base_uri": "https://localhost:8080/",
          "height": 448
        },
        "id": "tlgdgmPtId3i",
        "outputId": "4413f0b5-2b89-4181-dbb9-8aefe083975e"
      },
      "execution_count": 11,
      "outputs": [
        {
          "output_type": "execute_result",
          "data": {
            "text/plain": [
              "<Axes: >"
            ]
          },
          "metadata": {},
          "execution_count": 11
        },
        {
          "output_type": "display_data",
          "data": {
            "text/plain": [
              "<Figure size 640x480 with 1 Axes>"
            ],
            "image/png": "[encoded data removed]"
          },
          "metadata": {}
        }
      ]
    },
    {
      "cell_type": "code",
      "source": [
        "df['Threats'].hist()"
      ],
      "metadata": {
        "colab": {
          "base_uri": "https://localhost:8080/",
          "height": 448
        },
        "id": "QlJ4PFqpInD3",
        "outputId": "c98acc85-ff87-4c0b-ff25-be1da425dddb"
      },
      "execution_count": 12,
      "outputs": [
        {
          "output_type": "execute_result",
          "data": {
            "text/plain": [
              "<Axes: >"
            ]
          },
          "metadata": {},
          "execution_count": 12
        },
        {
          "output_type": "display_data",
          "data": {
            "text/plain": [
              "<Figure size 640x480 with 1 Axes>"
            ],
            "image/png": "[encoded data removed]"
          },
          "metadata": {}
        }
      ]
    },
    {
      "cell_type": "code",
      "source": [
        "encoder = LabelEncoder()\n",
        "df['Protcol'] = encoder.fit_transform(df['Protcol'])\n",
        "df['Flag'] = encoder.fit_transform(df['Flag'])\n",
        "df['Family'] = encoder.fit_transform(df['Family'])\n",
        "df['Threats'] = encoder.fit_transform(df['Threats'])\n",
        "df['SeddAddress'] = encoder.fit_transform(df['SeddAddress'])\n",
        "df['ExpAddress'] = encoder.fit_transform(df['ExpAddress'])\n",
        "df['Time'] = encoder.fit_transform(df['Time'])\n",
        "df['IPaddress'] = encoder.fit_transform(df['IPaddress'])\n",
        "df['Prediction'] = np.where(df['Prediction'] == 'A' , 1, 0)\n",
        "\n",
        "# Split data into features and target\n",
        "X = df.drop('Prediction', axis=1)\n",
        "y = df['Prediction']"
      ],
      "metadata": {
        "id": "aZC1YXJ8HsbW"
      },
      "execution_count": 13,
      "outputs": []
    },
    {
      "cell_type": "code",
      "source": [
        "# Function to preprocess data\n",
        "def preprocess_data(df):\n",
        "    # Convert categorical variables into dummy/indicator variables\n",
        "    df = pd.get_dummies(df, columns=['Protcol', 'Flag', 'Family','Time', 'IPaddress'])\n",
        "\n",
        "    # Split data into features and target\n",
        "    X = df.drop('Prediction', axis=1)\n",
        "    y = df['Prediction']\n",
        "\n",
        "    # Standardize features\n",
        "    scaler = StandardScaler()\n",
        "    X = scaler.fit_transform(X)\n",
        "\n",
        "    return X, y"
      ],
      "metadata": {
        "id": "M77C5DtJH05E"
      },
      "execution_count": 14,
      "outputs": []
    },
    {
      "cell_type": "code",
      "source": [
        "# Function to predict intrusion\n",
        "def predict_intrusion(model, X):\n",
        "    return model.predict(X)"
      ],
      "metadata": {
        "id": "AZiW2W35SNyo"
      },
      "execution_count": 15,
      "outputs": []
    },
    {
      "cell_type": "code",
      "source": [
        "# Preprocess data\n",
        "X, y = preprocess_data(df)"
      ],
      "metadata": {
        "id": "ecqdesFASWRB"
      },
      "execution_count": 16,
      "outputs": []
    },
    {
      "cell_type": "code",
      "source": [
        "# Split data into training and testing sets\n",
        "X_train, X_test, y_train, y_test = train_test_split(X, y, test_size=0.30, random_state=13)"
      ],
      "metadata": {
        "id": "XhoWxYWnSYCm"
      },
      "execution_count": 17,
      "outputs": []
    },
    {
      "cell_type": "code",
      "source": [
        "# Train SVM model\n",
        "svm = SVM()\n",
        "svm.fit(X_train, y_train)"
      ],
      "metadata": {
        "id": "XgY1uyGhSZwL"
      },
      "execution_count": 18,
      "outputs": []
    },
    {
      "cell_type": "code",
      "source": [
        "# Make predictions on the testing set\n",
        "y_pred = svm.predict(X_test)"
      ],
      "metadata": {
        "id": "jhdhn7kGScAa"
      },
      "execution_count": 19,
      "outputs": []
    },
    {
      "cell_type": "code",
      "source": [
        "print(y_train)"
      ],
      "metadata": {
        "colab": {
          "base_uri": "https://localhost:8080/"
        },
        "id": "4OKT5K_attG8",
        "outputId": "3c60e77a-eab7-45d0-cb7c-66e58628bad8"
      },
      "execution_count": 20,
      "outputs": [
        {
          "output_type": "stream",
          "name": "stdout",
          "text": [
            "15677     0\n",
            "110004    0\n",
            "23773     0\n",
            "32993     1\n",
            "28874     1\n",
            "         ..\n",
            "144628    0\n",
            "58266     0\n",
            "81891     0\n",
            "25324     1\n",
            "65689     1\n",
            "Name: Prediction, Length: 104330, dtype: int64\n"
          ]
        }
      ]
    },
    {
      "cell_type": "code",
      "source": [
        "print(y_pred)"
      ],
      "metadata": {
        "colab": {
          "base_uri": "https://localhost:8080/"
        },
        "id": "AshWA0GTtNxK",
        "outputId": "c5395ffd-19d7-452e-efa4-73de2c7f0fd7"
      },
      "execution_count": 21,
      "outputs": [
        {
          "output_type": "stream",
          "name": "stdout",
          "text": [
            "[0. 0. 0. ... 0. 0. 0.]\n"
          ]
        }
      ]
    },
    {
      "cell_type": "code",
      "source": [
        "print(\"Accuracy:\", accuracy_score(y_test, y_pred))"
      ],
      "metadata": {
        "colab": {
          "base_uri": "https://localhost:8080/"
        },
        "id": "XGhwTbJkaVV6",
        "outputId": "0c7643bc-fc89-4cef-d671-fdb921b5eee5"
      },
      "execution_count": 22,
      "outputs": [
        {
          "output_type": "stream",
          "name": "stdout",
          "text": [
            "Accuracy: 0.717106881667524\n"
          ]
        }
      ]
    }
  ]
}