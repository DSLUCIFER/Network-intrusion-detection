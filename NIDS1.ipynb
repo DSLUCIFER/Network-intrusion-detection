{
  "nbformat": 4,
  "nbformat_minor": 0,
  "metadata": {
    "colab": {
      "provenance": [],
      "authorship_tag": "ABX9TyOMsc2qxBTYfymLwE5Tr3Pd",
      "include_colab_link": true
    },
    "kernelspec": {
      "name": "python3",
      "display_name": "Python 3"
    },
    "language_info": {
      "name": "python"
    }
  },
  "cells": [
    {
      "cell_type": "markdown",
      "metadata": {
        "id": "view-in-github",
        "colab_type": "text"
      },
      "source": [
        "<a href=\"https://colab.research.google.com/github/DSLUCIFER/Network-intrusion-detection/blob/main/NIDS1.ipynb\" target=\"_parent\"><img src=\"https://colab.research.google.com/assets/colab-badge.svg\" alt=\"Open In Colab\"/></a>"
      ]
    },
    {
      "cell_type": "code",
      "execution_count": 2,
      "metadata": {
        "id": "Q10Tzz4_IoqG"
      },
      "outputs": [],
      "source": [
        "import numpy as np\n",
        "import pandas as pd\n",
        "import seaborn as sns\n",
        "from sklearn.model_selection import train_test_split\n",
        "from sklearn.multioutput import MultiOutputClassifier\n",
        "from sklearn.svm import SVC\n",
        "from sklearn.metrics import classification_report, accuracy_score\n",
        "from sklearn.preprocessing import MinMaxScaler\n",
        "from sklearn.model_selection import train_test_split\n"
      ]
    },
    {
      "cell_type": "code",
      "source": [
        "from google.colab import drive\n",
        "drive.mount('/content/drive')"
      ],
      "metadata": {
        "id": "rYNtcLOTudu3",
        "colab": {
          "base_uri": "https://localhost:8080/"
        },
        "outputId": "0d17fe2d-efc8-40c6-c5ff-b417f4f88bb4"
      },
      "execution_count": 3,
      "outputs": [
        {
          "output_type": "stream",
          "name": "stdout",
          "text": [
            "Mounted at /content/drive\n"
          ]
        }
      ]
    },
    {
      "cell_type": "code",
      "source": [
        "data = pd.read_csv('/content/drive/MyDrive/CS/final(2).csv')"
      ],
      "metadata": {
        "id": "oKR0MzTNIyjQ"
      },
      "execution_count": 4,
      "outputs": []
    },
    {
      "cell_type": "code",
      "source": [
        "print(data.columns)"
      ],
      "metadata": {
        "id": "-1Wx6FQOI51D",
        "colab": {
          "base_uri": "https://localhost:8080/"
        },
        "outputId": "5d1b1ec4-d53c-421e-bc2a-74088d3a03c6"
      },
      "execution_count": 6,
      "outputs": [
        {
          "output_type": "stream",
          "name": "stdout",
          "text": [
            "Index(['Time', 'Protcol', 'Flag', 'Family', 'Clusters', 'SeddAddress',\n",
            "       'ExpAddress', 'BTC', 'USD', 'Netflow_Bytes', 'IPaddress', 'Threats',\n",
            "       'Port', 'Prediction'],\n",
            "      dtype='object')\n"
          ]
        }
      ]
    },
    {
      "cell_type": "code",
      "source": [
        "print(data.head())"
      ],
      "metadata": {
        "id": "D6mOcjRjI8-o",
        "colab": {
          "base_uri": "https://localhost:8080/"
        },
        "outputId": "db87223e-92a6-4487-9923-88abad5e87af"
      },
      "execution_count": 7,
      "outputs": [
        {
          "output_type": "stream",
          "name": "stdout",
          "text": [
            "   Time Protcol Flag    Family  Clusters SeddAddress ExpAddress  BTC  USD  \\\n",
            "0    50     TCP    A  WannaCry         1    1DA11mPS   1BonuSr7    1  500   \n",
            "1    40     TCP    A  WannaCry         1    1DA11mPS   1BonuSr7    1  504   \n",
            "2    30     TCP    A  WannaCry         1    1DA11mPS   1BonuSr7    1  508   \n",
            "3    20     TCP    A  WannaCry         1    1DA11mPS   1BonuSr7    1  512   \n",
            "4    57     TCP    A  WannaCry         1    1DA11mPS   1BonuSr7    1  516   \n",
            "\n",
            "   Netflow_Bytes IPaddress Threats  Port Prediction  \n",
            "0              5         A   Bonet  5061         SS  \n",
            "1              8         A   Bonet  5061         SS  \n",
            "2              7         A   Bonet  5061         SS  \n",
            "3             15         A   Bonet  5061         SS  \n",
            "4              9         A   Bonet  5061         SS  \n"
          ]
        }
      ]
    },
    {
      "cell_type": "code",
      "source": [
        "data.shape"
      ],
      "metadata": {
        "id": "iU9KdspYgVmd",
        "colab": {
          "base_uri": "https://localhost:8080/"
        },
        "outputId": "9f411b48-7f74-4b0e-f777-55c5fb4f5e44"
      },
      "execution_count": 8,
      "outputs": [
        {
          "output_type": "execute_result",
          "data": {
            "text/plain": [
              "(149043, 14)"
            ]
          },
          "metadata": {},
          "execution_count": 8
        }
      ]
    },
    {
      "cell_type": "code",
      "source": [
        "data.info()"
      ],
      "metadata": {
        "id": "tc_4e_jSI_UT",
        "colab": {
          "base_uri": "https://localhost:8080/"
        },
        "outputId": "70a8c160-df44-49e9-aab7-d81b58b85b8d"
      },
      "execution_count": 9,
      "outputs": [
        {
          "output_type": "stream",
          "name": "stdout",
          "text": [
            "<class 'pandas.core.frame.DataFrame'>\n",
            "RangeIndex: 149043 entries, 0 to 149042\n",
            "Data columns (total 14 columns):\n",
            " #   Column         Non-Null Count   Dtype \n",
            "---  ------         --------------   ----- \n",
            " 0   Time           149043 non-null  int64 \n",
            " 1   Protcol        149043 non-null  object\n",
            " 2   Flag           149043 non-null  object\n",
            " 3   Family         149043 non-null  object\n",
            " 4   Clusters       149043 non-null  int64 \n",
            " 5   SeddAddress    149043 non-null  object\n",
            " 6   ExpAddress     149043 non-null  object\n",
            " 7   BTC            149043 non-null  int64 \n",
            " 8   USD            149043 non-null  int64 \n",
            " 9   Netflow_Bytes  149043 non-null  int64 \n",
            " 10  IPaddress      149043 non-null  object\n",
            " 11  Threats        149043 non-null  object\n",
            " 12  Port           149043 non-null  int64 \n",
            " 13  Prediction     149043 non-null  object\n",
            "dtypes: int64(6), object(8)\n",
            "memory usage: 15.9+ MB\n"
          ]
        }
      ]
    },
    {
      "cell_type": "code",
      "source": [
        "data.describe()"
      ],
      "metadata": {
        "id": "zxa3I9GgVRyB",
        "colab": {
          "base_uri": "https://localhost:8080/",
          "height": 300
        },
        "outputId": "0c58f2ce-5d80-40b7-b4b2-d633fe348db3"
      },
      "execution_count": 10,
      "outputs": [
        {
          "output_type": "execute_result",
          "data": {
            "text/plain": [
              "                Time       Clusters            BTC            USD  \\\n",
              "count  149043.000000  149043.000000  149043.000000  149043.000000   \n",
              "mean       21.466979       2.349295      30.554605   14863.441114   \n",
              "std        15.883598       2.828759     101.447102   26849.434659   \n",
              "min       -10.000000       1.000000       1.000000       1.000000   \n",
              "25%         8.000000       1.000000       8.000000     512.000000   \n",
              "50%        19.000000       1.000000      13.000000    4321.000000   \n",
              "75%        32.000000       2.000000      22.000000   18454.000000   \n",
              "max        96.000000      12.000000    1980.000000  126379.000000   \n",
              "\n",
              "       Netflow_Bytes           Port  \n",
              "count  149043.000000  149043.000000  \n",
              "mean     2021.278651    5063.949967  \n",
              "std      2271.420987       2.696011  \n",
              "min         1.000000    5061.000000  \n",
              "25%       353.000000    5062.000000  \n",
              "50%      1031.000000    5062.000000  \n",
              "75%      3188.000000    5066.000000  \n",
              "max     12360.000000    5068.000000  "
            ],
            "text/html": [
              "\n",
              "  <div id=\"df-3ae2e500-b10d-4394-af43-390c8b8824e8\" class=\"colab-df-container\">\n",
              "    <div>\n",
              "<style scoped>\n",
              "    .dataframe tbody tr th:only-of-type {\n",
              "        vertical-align: middle;\n",
              "    }\n",
              "\n",
              "    .dataframe tbody tr th {\n",
              "        vertical-align: top;\n",
              "    }\n",
              "\n",
              "    .dataframe thead th {\n",
              "        text-align: right;\n",
              "    }\n",
              "</style>\n",
              "<table border=\"1\" class=\"dataframe\">\n",
              "  <thead>\n",
              "    <tr style=\"text-align: right;\">\n",
              "      <th></th>\n",
              "      <th>Time</th>\n",
              "      <th>Clusters</th>\n",
              "      <th>BTC</th>\n",
              "      <th>USD</th>\n",
              "      <th>Netflow_Bytes</th>\n",
              "      <th>Port</th>\n",
              "    </tr>\n",
              "  </thead>\n",
              "  <tbody>\n",
              "    <tr>\n",
              "      <th>count</th>\n",
              "      <td>149043.000000</td>\n",
              "      <td>149043.000000</td>\n",
              "      <td>149043.000000</td>\n",
              "      <td>149043.000000</td>\n",
              "      <td>149043.000000</td>\n",
              "      <td>149043.000000</td>\n",
              "    </tr>\n",
              "    <tr>\n",
              "      <th>mean</th>\n",
              "      <td>21.466979</td>\n",
              "      <td>2.349295</td>\n",
              "      <td>30.554605</td>\n",
              "      <td>14863.441114</td>\n",
              "      <td>2021.278651</td>\n",
              "      <td>5063.949967</td>\n",
              "    </tr>\n",
              "    <tr>\n",
              "      <th>std</th>\n",
              "      <td>15.883598</td>\n",
              "      <td>2.828759</td>\n",
              "      <td>101.447102</td>\n",
              "      <td>26849.434659</td>\n",
              "      <td>2271.420987</td>\n",
              "      <td>2.696011</td>\n",
              "    </tr>\n",
              "    <tr>\n",
              "      <th>min</th>\n",
              "      <td>-10.000000</td>\n",
              "      <td>1.000000</td>\n",
              "      <td>1.000000</td>\n",
              "      <td>1.000000</td>\n",
              "      <td>1.000000</td>\n",
              "      <td>5061.000000</td>\n",
              "    </tr>\n",
              "    <tr>\n",
              "      <th>25%</th>\n",
              "      <td>8.000000</td>\n",
              "      <td>1.000000</td>\n",
              "      <td>8.000000</td>\n",
              "      <td>512.000000</td>\n",
              "      <td>353.000000</td>\n",
              "      <td>5062.000000</td>\n",
              "    </tr>\n",
              "    <tr>\n",
              "      <th>50%</th>\n",
              "      <td>19.000000</td>\n",
              "      <td>1.000000</td>\n",
              "      <td>13.000000</td>\n",
              "      <td>4321.000000</td>\n",
              "      <td>1031.000000</td>\n",
              "      <td>5062.000000</td>\n",
              "    </tr>\n",
              "    <tr>\n",
              "      <th>75%</th>\n",
              "      <td>32.000000</td>\n",
              "      <td>2.000000</td>\n",
              "      <td>22.000000</td>\n",
              "      <td>18454.000000</td>\n",
              "      <td>3188.000000</td>\n",
              "      <td>5066.000000</td>\n",
              "    </tr>\n",
              "    <tr>\n",
              "      <th>max</th>\n",
              "      <td>96.000000</td>\n",
              "      <td>12.000000</td>\n",
              "      <td>1980.000000</td>\n",
              "      <td>126379.000000</td>\n",
              "      <td>12360.000000</td>\n",
              "      <td>5068.000000</td>\n",
              "    </tr>\n",
              "  </tbody>\n",
              "</table>\n",
              "</div>\n",
              "    <div class=\"colab-df-buttons\">\n",
              "\n",
              "  <div class=\"colab-df-container\">\n",
              "    <button class=\"colab-df-convert\" onclick=\"convertToInteractive('df-3ae2e500-b10d-4394-af43-390c8b8824e8')\"\n",
              "            title=\"Convert this dataframe to an interactive table.\"\n",
              "            style=\"display:none;\">\n",
              "\n",
              "  <svg xmlns=\"http://www.w3.org/2000/svg\" height=\"24px\" viewBox=\"0 -960 960 960\">\n",
              "    <path d=\"M120-120v-720h720v720H120Zm60-500h600v-160H180v160Zm220 220h160v-160H400v160Zm0 220h160v-160H400v160ZM180-400h160v-160H180v160Zm440 0h160v-160H620v160ZM180-180h160v-160H180v160Zm440 0h160v-160H620v160Z\"/>\n",
              "  </svg>\n",
              "    </button>\n",
              "\n",
              "  <style>\n",
              "    .colab-df-container {\n",
              "      display:flex;\n",
              "      gap: 12px;\n",
              "    }\n",
              "\n",
              "    .colab-df-convert {\n",
              "      background-color: #E8F0FE;\n",
              "      border: none;\n",
              "      border-radius: 50%;\n",
              "      cursor: pointer;\n",
              "      display: none;\n",
              "      fill: #1967D2;\n",
              "      height: 32px;\n",
              "      padding: 0 0 0 0;\n",
              "      width: 32px;\n",
              "    }\n",
              "\n",
              "    .colab-df-convert:hover {\n",
              "      background-color: #E2EBFA;\n",
              "      box-shadow: 0px 1px 2px rgba(60, 64, 67, 0.3), 0px 1px 3px 1px rgba(60, 64, 67, 0.15);\n",
              "      fill: #174EA6;\n",
              "    }\n",
              "\n",
              "    .colab-df-buttons div {\n",
              "      margin-bottom: 4px;\n",
              "    }\n",
              "\n",
              "    [theme=dark] .colab-df-convert {\n",
              "      background-color: #3B4455;\n",
              "      fill: #D2E3FC;\n",
              "    }\n",
              "\n",
              "    [theme=dark] .colab-df-convert:hover {\n",
              "      background-color: #434B5C;\n",
              "      box-shadow: 0px 1px 3px 1px rgba(0, 0, 0, 0.15);\n",
              "      filter: drop-shadow(0px 1px 2px rgba(0, 0, 0, 0.3));\n",
              "      fill: #FFFFFF;\n",
              "    }\n",
              "  </style>\n",
              "\n",
              "    <script>\n",
              "      const buttonEl =\n",
              "        document.querySelector('#df-3ae2e500-b10d-4394-af43-390c8b8824e8 button.colab-df-convert');\n",
              "      buttonEl.style.display =\n",
              "        google.colab.kernel.accessAllowed ? 'block' : 'none';\n",
              "\n",
              "      async function convertToInteractive(key) {\n",
              "        const element = document.querySelector('#df-3ae2e500-b10d-4394-af43-390c8b8824e8');\n",
              "        const dataTable =\n",
              "          await google.colab.kernel.invokeFunction('convertToInteractive',\n",
              "                                                    [key], {});\n",
              "        if (!dataTable) return;\n",
              "\n",
              "        const docLinkHtml = 'Like what you see? Visit the ' +\n",
              "          '<a target=\"_blank\" href=https://colab.research.google.com/notebooks/data_table.ipynb>data table notebook</a>'\n",
              "          + ' to learn more about interactive tables.';\n",
              "        element.innerHTML = '';\n",
              "        dataTable['output_type'] = 'display_data';\n",
              "        await google.colab.output.renderOutput(dataTable, element);\n",
              "        const docLink = document.createElement('div');\n",
              "        docLink.innerHTML = docLinkHtml;\n",
              "        element.appendChild(docLink);\n",
              "      }\n",
              "    </script>\n",
              "  </div>\n",
              "\n",
              "\n",
              "<div id=\"df-aa1a9162-4178-4aaf-afcc-7c92af9f564f\">\n",
              "  <button class=\"colab-df-quickchart\" onclick=\"quickchart('df-aa1a9162-4178-4aaf-afcc-7c92af9f564f')\"\n",
              "            title=\"Suggest charts\"\n",
              "            style=\"display:none;\">\n",
              "\n",
              "<svg xmlns=\"http://www.w3.org/2000/svg\" height=\"24px\"viewBox=\"0 0 24 24\"\n",
              "     width=\"24px\">\n",
              "    <g>\n",
              "        <path d=\"M19 3H5c-1.1 0-2 .9-2 2v14c0 1.1.9 2 2 2h14c1.1 0 2-.9 2-2V5c0-1.1-.9-2-2-2zM9 17H7v-7h2v7zm4 0h-2V7h2v10zm4 0h-2v-4h2v4z\"/>\n",
              "    </g>\n",
              "</svg>\n",
              "  </button>\n",
              "\n",
              "<style>\n",
              "  .colab-df-quickchart {\n",
              "      --bg-color: #E8F0FE;\n",
              "      --fill-color: #1967D2;\n",
              "      --hover-bg-color: #E2EBFA;\n",
              "      --hover-fill-color: #174EA6;\n",
              "      --disabled-fill-color: #AAA;\n",
              "      --disabled-bg-color: #DDD;\n",
              "  }\n",
              "\n",
              "  [theme=dark] .colab-df-quickchart {\n",
              "      --bg-color: #3B4455;\n",
              "      --fill-color: #D2E3FC;\n",
              "      --hover-bg-color: #434B5C;\n",
              "      --hover-fill-color: #FFFFFF;\n",
              "      --disabled-bg-color: #3B4455;\n",
              "      --disabled-fill-color: #666;\n",
              "  }\n",
              "\n",
              "  .colab-df-quickchart {\n",
              "    background-color: var(--bg-color);\n",
              "    border: none;\n",
              "    border-radius: 50%;\n",
              "    cursor: pointer;\n",
              "    display: none;\n",
              "    fill: var(--fill-color);\n",
              "    height: 32px;\n",
              "    padding: 0;\n",
              "    width: 32px;\n",
              "  }\n",
              "\n",
              "  .colab-df-quickchart:hover {\n",
              "    background-color: var(--hover-bg-color);\n",
              "    box-shadow: 0 1px 2px rgba(60, 64, 67, 0.3), 0 1px 3px 1px rgba(60, 64, 67, 0.15);\n",
              "    fill: var(--button-hover-fill-color);\n",
              "  }\n",
              "\n",
              "  .colab-df-quickchart-complete:disabled,\n",
              "  .colab-df-quickchart-complete:disabled:hover {\n",
              "    background-color: var(--disabled-bg-color);\n",
              "    fill: var(--disabled-fill-color);\n",
              "    box-shadow: none;\n",
              "  }\n",
              "\n",
              "  .colab-df-spinner {\n",
              "    border: 2px solid var(--fill-color);\n",
              "    border-color: transparent;\n",
              "    border-bottom-color: var(--fill-color);\n",
              "    animation:\n",
              "      spin 1s steps(1) infinite;\n",
              "  }\n",
              "\n",
              "  @keyframes spin {\n",
              "    0% {\n",
              "      border-color: transparent;\n",
              "      border-bottom-color: var(--fill-color);\n",
              "      border-left-color: var(--fill-color);\n",
              "    }\n",
              "    20% {\n",
              "      border-color: transparent;\n",
              "      border-left-color: var(--fill-color);\n",
              "      border-top-color: var(--fill-color);\n",
              "    }\n",
              "    30% {\n",
              "      border-color: transparent;\n",
              "      border-left-color: var(--fill-color);\n",
              "      border-top-color: var(--fill-color);\n",
              "      border-right-color: var(--fill-color);\n",
              "    }\n",
              "    40% {\n",
              "      border-color: transparent;\n",
              "      border-right-color: var(--fill-color);\n",
              "      border-top-color: var(--fill-color);\n",
              "    }\n",
              "    60% {\n",
              "      border-color: transparent;\n",
              "      border-right-color: var(--fill-color);\n",
              "    }\n",
              "    80% {\n",
              "      border-color: transparent;\n",
              "      border-right-color: var(--fill-color);\n",
              "      border-bottom-color: var(--fill-color);\n",
              "    }\n",
              "    90% {\n",
              "      border-color: transparent;\n",
              "      border-bottom-color: var(--fill-color);\n",
              "    }\n",
              "  }\n",
              "</style>\n",
              "\n",
              "  <script>\n",
              "    async function quickchart(key) {\n",
              "      const quickchartButtonEl =\n",
              "        document.querySelector('#' + key + ' button');\n",
              "      quickchartButtonEl.disabled = true;  // To prevent multiple clicks.\n",
              "      quickchartButtonEl.classList.add('colab-df-spinner');\n",
              "      try {\n",
              "        const charts = await google.colab.kernel.invokeFunction(\n",
              "            'suggestCharts', [key], {});\n",
              "      } catch (error) {\n",
              "        console.error('Error during call to suggestCharts:', error);\n",
              "      }\n",
              "      quickchartButtonEl.classList.remove('colab-df-spinner');\n",
              "      quickchartButtonEl.classList.add('colab-df-quickchart-complete');\n",
              "    }\n",
              "    (() => {\n",
              "      let quickchartButtonEl =\n",
              "        document.querySelector('#df-aa1a9162-4178-4aaf-afcc-7c92af9f564f button');\n",
              "      quickchartButtonEl.style.display =\n",
              "        google.colab.kernel.accessAllowed ? 'block' : 'none';\n",
              "    })();\n",
              "  </script>\n",
              "</div>\n",
              "\n",
              "    </div>\n",
              "  </div>\n"
            ],
            "application/vnd.google.colaboratory.intrinsic+json": {
              "type": "dataframe",
              "summary": "{\n  \"name\": \"data\",\n  \"rows\": 8,\n  \"fields\": [\n    {\n      \"column\": \"Time\",\n      \"properties\": {\n        \"dtype\": \"number\",\n        \"std\": 52685.457020534945,\n        \"min\": -10.0,\n        \"max\": 149043.0,\n        \"num_unique_values\": 8,\n        \"samples\": [\n          21.466979328113364,\n          19.0,\n          149043.0\n        ],\n        \"semantic_type\": \"\",\n        \"description\": \"\"\n      }\n    },\n    {\n      \"column\": \"Clusters\",\n      \"properties\": {\n        \"dtype\": \"number\",\n        \"std\": 52693.53796107482,\n        \"min\": 1.0,\n        \"max\": 149043.0,\n        \"num_unique_values\": 6,\n        \"samples\": [\n          149043.0,\n          2.3492951698503117,\n          12.0\n        ],\n        \"semantic_type\": \"\",\n        \"description\": \"\"\n      }\n    },\n    {\n      \"column\": \"BTC\",\n      \"properties\": {\n        \"dtype\": \"number\",\n        \"std\": 52590.20268269749,\n        \"min\": 1.0,\n        \"max\": 149043.0,\n        \"num_unique_values\": 8,\n        \"samples\": [\n          30.55460504686567,\n          13.0,\n          149043.0\n        ],\n        \"semantic_type\": \"\",\n        \"description\": \"\"\n      }\n    },\n    {\n      \"column\": \"USD\",\n      \"properties\": {\n        \"dtype\": \"number\",\n        \"std\": 59762.38427729275,\n        \"min\": 1.0,\n        \"max\": 149043.0,\n        \"num_unique_values\": 8,\n        \"samples\": [\n          14863.441114309293,\n          4321.0,\n          149043.0\n        ],\n        \"semantic_type\": \"\",\n        \"description\": \"\"\n      }\n    },\n    {\n      \"column\": \"Netflow_Bytes\",\n      \"properties\": {\n        \"dtype\": \"number\",\n        \"std\": 51773.20394225976,\n        \"min\": 1.0,\n        \"max\": 149043.0,\n        \"num_unique_values\": 8,\n        \"samples\": [\n          2021.278651127527,\n          1031.0,\n          149043.0\n        ],\n        \"semantic_type\": \"\",\n        \"description\": \"\"\n      }\n    },\n    {\n      \"column\": \"Port\",\n      \"properties\": {\n        \"dtype\": \"number\",\n        \"std\": 51190.596178600885,\n        \"min\": 2.6960107634170725,\n        \"max\": 149043.0,\n        \"num_unique_values\": 7,\n        \"samples\": [\n          149043.0,\n          5063.949967459055,\n          5066.0\n        ],\n        \"semantic_type\": \"\",\n        \"description\": \"\"\n      }\n    }\n  ]\n}"
            }
          },
          "metadata": {},
          "execution_count": 10
        }
      ]
    },
    {
      "cell_type": "code",
      "source": [
        "data.boxplot(column='Time')"
      ],
      "metadata": {
        "id": "qmdvNZaEg2M0",
        "colab": {
          "base_uri": "https://localhost:8080/",
          "height": 448
        },
        "outputId": "f4895b2b-4b68-4cd3-cb46-3a83c0e6e353"
      },
      "execution_count": 11,
      "outputs": [
        {
          "output_type": "execute_result",
          "data": {
            "text/plain": [
              "<Axes: >"
            ]
          },
          "metadata": {},
          "execution_count": 11
        },
        {
          "output_type": "display_data",
          "data": {
            "text/plain": [
              "<Figure size 640x480 with 1 Axes>"
            ],
            "image/png": "[encoded data removed]"
          },
          "metadata": {}
        }
      ]
    },
    {
      "cell_type": "code",
      "source": [
        "data.boxplot(column='BTC')"
      ],
      "metadata": {
        "id": "0RFEcrRkhmrR",
        "colab": {
          "base_uri": "https://localhost:8080/",
          "height": 447
        },
        "outputId": "39409c85-8999-4244-b056-b95f1cc66f43"
      },
      "execution_count": 12,
      "outputs": [
        {
          "output_type": "execute_result",
          "data": {
            "text/plain": [
              "<Axes: >"
            ]
          },
          "metadata": {},
          "execution_count": 12
        },
        {
          "output_type": "display_data",
          "data": {
            "text/plain": [
              "<Figure size 640x480 with 1 Axes>"
            ],
            "image/png": "[encoded data removed]"
          },
          "metadata": {}
        }
      ]
    },
    {
      "cell_type": "code",
      "source": [
        "data.boxplot(column='USD')"
      ],
      "metadata": {
        "colab": {
          "base_uri": "https://localhost:8080/",
          "height": 447
        },
        "id": "MwOpnylVweOY",
        "outputId": "fe8d8b83-62bc-43f8-bbf1-2e3ed2478275"
      },
      "execution_count": 13,
      "outputs": [
        {
          "output_type": "execute_result",
          "data": {
            "text/plain": [
              "<Axes: >"
            ]
          },
          "metadata": {},
          "execution_count": 13
        },
        {
          "output_type": "display_data",
          "data": {
            "text/plain": [
              "<Figure size 640x480 with 1 Axes>"
            ],
            "image/png": "[encoded data removed]"
          },
          "metadata": {}
        }
      ]
    },
    {
      "cell_type": "code",
      "source": [
        "data.boxplot(column='Port')"
      ],
      "metadata": {
        "colab": {
          "base_uri": "https://localhost:8080/",
          "height": 447
        },
        "id": "c2nV8_Gdwg_y",
        "outputId": "044e358a-ea91-4d8e-b88f-2d310ce02343"
      },
      "execution_count": 14,
      "outputs": [
        {
          "output_type": "execute_result",
          "data": {
            "text/plain": [
              "<Axes: >"
            ]
          },
          "metadata": {},
          "execution_count": 14
        },
        {
          "output_type": "display_data",
          "data": {
            "text/plain": [
              "<Figure size 640x480 with 1 Axes>"
            ],
            "image/png": "[encoded data removed]"
          },
          "metadata": {}
        }
      ]
    },
    {
      "cell_type": "code",
      "source": [
        "data['Time'].hist()"
      ],
      "metadata": {
        "colab": {
          "base_uri": "https://localhost:8080/",
          "height": 447
        },
        "id": "G7GyutWewjxt",
        "outputId": "a98d3327-5e0e-4ea7-f113-af48bbad3dbd"
      },
      "execution_count": 15,
      "outputs": [
        {
          "output_type": "execute_result",
          "data": {
            "text/plain": [
              "<Axes: >"
            ]
          },
          "metadata": {},
          "execution_count": 15
        },
        {
          "output_type": "display_data",
          "data": {
            "text/plain": [
              "<Figure size 640x480 with 1 Axes>"
            ],
            "image/png": "[encoded data removed]"
          },
          "metadata": {}
        }
      ]
    },
    {
      "cell_type": "code",
      "source": [
        "data['BTC'].hist()"
      ],
      "metadata": {
        "colab": {
          "base_uri": "https://localhost:8080/",
          "height": 447
        },
        "id": "lxjRy3_twnH2",
        "outputId": "731a4834-54dc-42bd-8c6d-f2a8706f1511"
      },
      "execution_count": 16,
      "outputs": [
        {
          "output_type": "execute_result",
          "data": {
            "text/plain": [
              "<Axes: >"
            ]
          },
          "metadata": {},
          "execution_count": 16
        },
        {
          "output_type": "display_data",
          "data": {
            "text/plain": [
              "<Figure size 640x480 with 1 Axes>"
            ],
            "image/png": "[encoded data removed]"
          },
          "metadata": {}
        }
      ]
    },
    {
      "cell_type": "code",
      "source": [
        "data['USD'].hist()"
      ],
      "metadata": {
        "id": "Z4yWDstYhthP",
        "colab": {
          "base_uri": "https://localhost:8080/",
          "height": 447
        },
        "outputId": "6c40805a-558e-4f91-d8e6-121880ef6448"
      },
      "execution_count": 17,
      "outputs": [
        {
          "output_type": "execute_result",
          "data": {
            "text/plain": [
              "<Axes: >"
            ]
          },
          "metadata": {},
          "execution_count": 17
        },
        {
          "output_type": "display_data",
          "data": {
            "text/plain": [
              "<Figure size 640x480 with 1 Axes>"
            ],
            "image/png": "[encoded data removed]"
          },
          "metadata": {}
        }
      ]
    },
    {
      "cell_type": "code",
      "source": [
        "data['Port'].hist()"
      ],
      "metadata": {
        "id": "7e2pnxNWhuU4",
        "colab": {
          "base_uri": "https://localhost:8080/",
          "height": 447
        },
        "outputId": "aa97f6c7-940d-4614-8bc3-b3d70633bb57"
      },
      "execution_count": 18,
      "outputs": [
        {
          "output_type": "execute_result",
          "data": {
            "text/plain": [
              "<Axes: >"
            ]
          },
          "metadata": {},
          "execution_count": 18
        },
        {
          "output_type": "display_data",
          "data": {
            "text/plain": [
              "<Figure size 640x480 with 1 Axes>"
            ],
            "image/png": "[encoded data removed]"
          },
          "metadata": {}
        }
      ]
    },
    {
      "cell_type": "code",
      "source": [],
      "metadata": {
        "id": "aGTwpgYNhxL2"
      },
      "execution_count": 18,
      "outputs": []
    },
    {
      "cell_type": "code",
      "source": [
        "# Identify categorical variables\n",
        "categorical_cols = ['Protcol', 'Flag', 'Family', 'Threats']"
      ],
      "metadata": {
        "id": "LBpfgTcdJCvt"
      },
      "execution_count": 19,
      "outputs": []
    },
    {
      "cell_type": "code",
      "source": [
        "X_categorical = pd.get_dummies(data[categorical_cols])\n",
        "y_categorical = pd.get_dummies(data[categorical_cols])"
      ],
      "metadata": {
        "id": "g4obnTyHKMLM"
      },
      "execution_count": 20,
      "outputs": []
    },
    {
      "cell_type": "code",
      "source": [
        "# Numerical features\n",
        "numerical_cols = ['Time', 'Clusters', 'BTC', 'USD', 'Netflow_Bytes', 'Port']  # Assuming these are numerical columns\n",
        "X_numerical = data[numerical_cols]\n",
        "y_numerical = data[numerical_cols]"
      ],
      "metadata": {
        "id": "_gtZh045KQan"
      },
      "execution_count": 21,
      "outputs": []
    },
    {
      "cell_type": "code",
      "source": [
        "# Concatenate one-hot encoded features with numerical features\n",
        "X = pd.concat([X_categorical, X_numerical], axis=1)\n",
        "y = pd.concat([y_categorical, y_numerical], axis=1)"
      ],
      "metadata": {
        "id": "KnyYR9rrKnsI"
      },
      "execution_count": 22,
      "outputs": []
    },
    {
      "cell_type": "code",
      "source": [
        "# Normalize the features\n",
        "scaler = MinMaxScaler()\n",
        "X_normalized = scaler.fit_transform(X)"
      ],
      "metadata": {
        "id": "MdV9uW2rKsVF"
      },
      "execution_count": 23,
      "outputs": []
    },
    {
      "cell_type": "code",
      "source": [
        "print(X_normalized)"
      ],
      "metadata": {
        "id": "bsVMjBz3Ku8G",
        "colab": {
          "base_uri": "https://localhost:8080/"
        },
        "outputId": "c5d8c92b-84de-48b7-9850-d5f6db6ad8e4"
      },
      "execution_count": 24,
      "outputs": [
        {
          "output_type": "stream",
          "name": "stdout",
          "text": [
            "[[0.00000000e+00 1.00000000e+00 0.00000000e+00 ... 3.94847204e-03\n",
            "  3.23650781e-04 0.00000000e+00]\n",
            " [0.00000000e+00 1.00000000e+00 0.00000000e+00 ... 3.98012312e-03\n",
            "  5.66388866e-04 0.00000000e+00]\n",
            " [0.00000000e+00 1.00000000e+00 0.00000000e+00 ... 4.01177420e-03\n",
            "  4.85476171e-04 0.00000000e+00]\n",
            " ...\n",
            " [0.00000000e+00 0.00000000e+00 1.00000000e+00 ... 1.26683442e-02\n",
            "  2.71947569e-01 1.42857143e-01]\n",
            " [0.00000000e+00 0.00000000e+00 1.00000000e+00 ... 1.27158208e-02\n",
            "  2.72837608e-01 1.42857143e-01]\n",
            " [0.00000000e+00 0.00000000e+00 1.00000000e+00 ... 1.27632974e-02\n",
            "  2.73727648e-01 1.42857143e-01]]\n"
          ]
        }
      ]
    },
    {
      "cell_type": "code",
      "source": [
        "# Split the dataset into train and test sets\n",
        "X_train, X_test, y_train, y_test = train_test_split(X, y, test_size=0.2, random_state=42)"
      ],
      "metadata": {
        "id": "Tp9NWGcb9qc6"
      },
      "execution_count": 25,
      "outputs": []
    },
    {
      "cell_type": "code",
      "source": [
        "# Concatenate features and target variable for training set\n",
        "train_data = pd.concat([X_train, y_train], axis=1)\n",
        "\n",
        "# Save training data to a CSV file\n",
        "train_data.to_csv('/content/drive/MyDrive/CS/test_data.csv', index=False)\n",
        "\n",
        "# Concatenate features and target variable for testing set\n",
        "test_data = pd.concat([X_test, y_test], axis=1)\n",
        "\n",
        "# Save testing data to a CSV file\n",
        "test_data.to_csv('/content/drive/MyDrive/CS/test_data.csv', index=False)\n"
      ],
      "metadata": {
        "id": "9J6DQKa2Xhiv"
      },
      "execution_count": 26,
      "outputs": []
    },
    {
      "cell_type": "code",
      "source": [
        "train=pd.read_csv('/content/drive/MyDrive/CS/test_data.csv')"
      ],
      "metadata": {
        "id": "GOuSe2SQZM51"
      },
      "execution_count": 27,
      "outputs": []
    },
    {
      "cell_type": "code",
      "source": [
        "test=pd.read_csv('/content/drive/MyDrive/CS/test_data.csv')"
      ],
      "metadata": {
        "id": "nn6wVOADZXXe"
      },
      "execution_count": 28,
      "outputs": []
    },
    {
      "cell_type": "code",
      "source": [
        "y_train.shape"
      ],
      "metadata": {
        "id": "cWkH9s26aZRs",
        "colab": {
          "base_uri": "https://localhost:8080/"
        },
        "outputId": "7fbd9a89-1cab-49e5-d648-38bb09240d44"
      },
      "execution_count": 29,
      "outputs": [
        {
          "output_type": "execute_result",
          "data": {
            "text/plain": [
              "(119234, 44)"
            ]
          },
          "metadata": {},
          "execution_count": 29
        }
      ]
    },
    {
      "cell_type": "code",
      "source": [
        "X_train.shape"
      ],
      "metadata": {
        "id": "xX4MvIiMadur",
        "colab": {
          "base_uri": "https://localhost:8080/"
        },
        "outputId": "77241e82-ba3b-4892-e18e-20d583fe4a1c"
      },
      "execution_count": 30,
      "outputs": [
        {
          "output_type": "execute_result",
          "data": {
            "text/plain": [
              "(119234, 44)"
            ]
          },
          "metadata": {},
          "execution_count": 30
        }
      ]
    },
    {
      "cell_type": "code",
      "source": [
        "print(X_train.head())\n",
        "print(y_train.head())"
      ],
      "metadata": {
        "id": "W_J7uxltfWpz",
        "colab": {
          "base_uri": "https://localhost:8080/"
        },
        "outputId": "1482e480-784e-45ca-e04a-741c53419753"
      },
      "execution_count": 31,
      "outputs": [
        {
          "output_type": "stream",
          "name": "stdout",
          "text": [
            "        Protcol_ICMP  Protcol_TCP  Protcol_UDP  Flag_A  Flag_AF  Flag_AP  \\\n",
            "46958              0            0            1       0        0        0   \n",
            "137951             0            1            0       0        1        0   \n",
            "39746              0            0            1       0        1        0   \n",
            "144462             0            0            1       0        0        0   \n",
            "79287              0            1            0       0        0        0   \n",
            "\n",
            "        Flag_APRSF  Flag_APS  Flag_APSF  Flag_ARF  ...  Threats_SSH  \\\n",
            "46958            0         0          0         1  ...            0   \n",
            "137951           0         0          0         0  ...            0   \n",
            "39746            0         0          0         0  ...            0   \n",
            "144462           0         0          0         0  ...            1   \n",
            "79287            0         0          0         0  ...            0   \n",
            "\n",
            "        Threats_Scan  Threats_Spam  Threats_UDP Scan  Time  Clusters  BTC  \\\n",
            "46958              0             0                 0    11         1   11   \n",
            "137951             1             0                 0     6         1   11   \n",
            "39746              0             0                 1    27         1   11   \n",
            "144462             0             0                 0     7         1    3   \n",
            "79287              0             0                 0     7         1    9   \n",
            "\n",
            "          USD  Netflow_Bytes  Port  \n",
            "46958   18454           1246  5061  \n",
            "137951  21345            329  5061  \n",
            "39746   21345            612  5062  \n",
            "144462    735           1427  5062  \n",
            "79287   18034           5366  5066  \n",
            "\n",
            "[5 rows x 44 columns]\n",
            "        Protcol_ICMP  Protcol_TCP  Protcol_UDP  Flag_A  Flag_AF  Flag_AP  \\\n",
            "46958              0            0            1       0        0        0   \n",
            "137951             0            1            0       0        1        0   \n",
            "39746              0            0            1       0        1        0   \n",
            "144462             0            0            1       0        0        0   \n",
            "79287              0            1            0       0        0        0   \n",
            "\n",
            "        Flag_APRSF  Flag_APS  Flag_APSF  Flag_ARF  ...  Threats_SSH  \\\n",
            "46958            0         0          0         1  ...            0   \n",
            "137951           0         0          0         0  ...            0   \n",
            "39746            0         0          0         0  ...            0   \n",
            "144462           0         0          0         0  ...            1   \n",
            "79287            0         0          0         0  ...            0   \n",
            "\n",
            "        Threats_Scan  Threats_Spam  Threats_UDP Scan  Time  Clusters  BTC  \\\n",
            "46958              0             0                 0    11         1   11   \n",
            "137951             1             0                 0     6         1   11   \n",
            "39746              0             0                 1    27         1   11   \n",
            "144462             0             0                 0     7         1    3   \n",
            "79287              0             0                 0     7         1    9   \n",
            "\n",
            "          USD  Netflow_Bytes  Port  \n",
            "46958   18454           1246  5061  \n",
            "137951  21345            329  5061  \n",
            "39746   21345            612  5062  \n",
            "144462    735           1427  5062  \n",
            "79287   18034           5366  5066  \n",
            "\n",
            "[5 rows x 44 columns]\n"
          ]
        }
      ]
    },
    {
      "cell_type": "code",
      "source": [
        "sns.countplot(x='Prediction', data=data)"
      ],
      "metadata": {
        "id": "ekrLoItXS-bE",
        "colab": {
          "base_uri": "https://localhost:8080/",
          "height": 466
        },
        "outputId": "48f704b9-fe3b-43ea-8c78-27fe105fb8e7"
      },
      "execution_count": 32,
      "outputs": [
        {
          "output_type": "execute_result",
          "data": {
            "text/plain": [
              "<Axes: xlabel='Prediction', ylabel='count'>"
            ]
          },
          "metadata": {},
          "execution_count": 32
        },
        {
          "output_type": "display_data",
          "data": {
            "text/plain": [
              "<Figure size 640x480 with 1 Axes>"
            ],
            "image/png": "[encoded data removed]"
          },
          "metadata": {}
        }
      ]
    },
    {
      "cell_type": "code",
      "source": [
        "sns.countplot(x='Threats', data=data\n",
        "            )"
      ],
      "metadata": {
        "id": "66L6SJ33Tcuw",
        "colab": {
          "base_uri": "https://localhost:8080/",
          "height": 466
        },
        "outputId": "48c9de3e-a300-456c-dabc-350e1d54ad1a"
      },
      "execution_count": 33,
      "outputs": [
        {
          "output_type": "execute_result",
          "data": {
            "text/plain": [
              "<Axes: xlabel='Threats', ylabel='count'>"
            ]
          },
          "metadata": {},
          "execution_count": 33
        },
        {
          "output_type": "display_data",
          "data": {
            "text/plain": [
              "<Figure size 640x480 with 1 Axes>"
            ],
            "image/png": "[encoded data removed]"
          },
          "metadata": {}
        }
      ]
    },
    {
      "cell_type": "code",
      "source": [
        "# Splitting data into train and test sets\n",
        "X_train, X_test, y_train, y_test = train_test_split(X, y, test_size=0.2, random_state=42)"
      ],
      "metadata": {
        "id": "NKt9Oysr3zGj"
      },
      "execution_count": null,
      "outputs": []
    },
    {
      "cell_type": "code",
      "source": [],
      "metadata": {
        "id": "hDrYyQlD33Jm"
      },
      "execution_count": null,
      "outputs": []
    }
  ]
}