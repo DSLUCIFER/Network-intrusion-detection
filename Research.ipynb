{
 "cells": [
  {
   "cell_type": "code",
   "execution_count": 1,
   "id": "f8ecb6d7",
   "metadata": {},
   "outputs": [],
   "source": [
    "import pandas as pd\n",
    "import matplotlib.pyplot as plt\n",
    "from sklearn.model_selection import train_test_split\n",
    "from sklearn.preprocessing import StandardScaler\n",
    "from sklearn.preprocessing import LabelEncoder\n",
    "from sklearn.metrics import classification_report, accuracy_score, precision_score, recall_score, f1_score\n",
    "import seaborn as sns\n",
    "from sklearn.preprocessing import OneHotEncoder\n",
    "import pywhatkit"
   ]
  },
  {
   "cell_type": "code",
   "execution_count": 2,
   "id": "7f4ad8e3",
   "metadata": {},
   "outputs": [],
   "source": [
    "import numpy as np\n",
    "\n",
    "class SVM:\n",
    "    def __init__(self, learning_rate=0.2, lambda_param=0.01, n_iters=10000):\n",
    "        self.lr = learning_rate\n",
    "        self.lambda_param = lambda_param\n",
    "        self.n_iters = n_iters\n",
    "        self.w = None\n",
    "        self.b = None\n",
    "\n",
    "    def fit(self, X, y):\n",
    "        n_samples, n_features = X.shape\n",
    "        y_binary = np.where(y == 'A', 1, 0)\n",
    "    \n",
    "        self.w = np.zeros(n_features).astype(np.int64)\n",
    "        self.b = 0\n",
    "\n",
    "        for _ in range(self.n_iters):\n",
    "            for idx, x_i in enumerate(X):\n",
    "                result = np.dot(x_i, self.w)\n",
    "                result = result.astype(np.int64)\n",
    "                condition = y_binary[idx] * (result - self.b) >= 1\n",
    "                \n",
    "                if condition:\n",
    "                    self.w -= (self.lr * (2 * self.lambda_param * self.w)).astype(np.int64)\n",
    "                else:\n",
    "                    self.w -= (self.lr * (2 * self.lambda_param * self.w - np.dot(x_i, y_binary[idx]))).astype(np.int64)\n",
    "                    self.b -= self.lr * y_binary[idx]\n",
    "\n",
    "\n",
    "    def predict(self, X, b=None):\n",
    "        if self.w is None:\n",
    "            w = np.ones(X.shape[1])\n",
    "        else:\n",
    "            w = self.w\n",
    "        b = float(self.b) if b is None else b\n",
    "        \n",
    "        approx = np.dot(X, w) - b\n",
    "        \n",
    "        return np.sign(approx)"
   ]
  },
  {
   "cell_type": "code",
   "execution_count": 3,
   "id": "ae5484a8",
   "metadata": {},
   "outputs": [],
   "source": [
    "df = pd.read_csv('final.csv')"
   ]
  },
  {
   "cell_type": "code",
   "execution_count": 4,
   "id": "b898615b",
   "metadata": {},
   "outputs": [
    {
     "data": {
      "text/plain": [
       "(149043, 14)"
      ]
     },
     "execution_count": 4,
     "metadata": {},
     "output_type": "execute_result"
    }
   ],
   "source": [
    "df.shape"
   ]
  },
  {
   "cell_type": "code",
   "execution_count": 5,
   "id": "d75dae38",
   "metadata": {},
   "outputs": [
    {
     "name": "stdout",
     "output_type": "stream",
     "text": [
      "Index(['Time', 'Protcol', 'Flag', 'Family', 'Clusters', 'SeddAddress',\n",
      "       'ExpAddress', 'BTC', 'USD', 'Netflow_Bytes', 'IPaddress', 'Threats',\n",
      "       'Port', 'Prediction'],\n",
      "      dtype='object')\n"
     ]
    }
   ],
   "source": [
    "print(df.columns)"
   ]
  },
  {
   "cell_type": "code",
   "execution_count": 6,
   "id": "a53dd1f6",
   "metadata": {},
   "outputs": [
    {
     "data": {
      "text/html": [
       "<div>\n",
       "<style scoped>\n",
       "    .dataframe tbody tr th:only-of-type {\n",
       "        vertical-align: middle;\n",
       "    }\n",
       "\n",
       "    .dataframe tbody tr th {\n",
       "        vertical-align: top;\n",
       "    }\n",
       "\n",
       "    .dataframe thead th {\n",
       "        text-align: right;\n",
       "    }\n",
       "</style>\n",
       "<table border=\"1\" class=\"dataframe\">\n",
       "  <thead>\n",
       "    <tr style=\"text-align: right;\">\n",
       "      <th></th>\n",
       "      <th>Time</th>\n",
       "      <th>Protcol</th>\n",
       "      <th>Flag</th>\n",
       "      <th>Family</th>\n",
       "      <th>Clusters</th>\n",
       "      <th>SeddAddress</th>\n",
       "      <th>ExpAddress</th>\n",
       "      <th>BTC</th>\n",
       "      <th>USD</th>\n",
       "      <th>Netflow_Bytes</th>\n",
       "      <th>IPaddress</th>\n",
       "      <th>Threats</th>\n",
       "      <th>Port</th>\n",
       "      <th>Prediction</th>\n",
       "    </tr>\n",
       "  </thead>\n",
       "  <tbody>\n",
       "    <tr>\n",
       "      <th>0</th>\n",
       "      <td>50</td>\n",
       "      <td>TCP</td>\n",
       "      <td>A</td>\n",
       "      <td>WannaCry</td>\n",
       "      <td>1</td>\n",
       "      <td>1DA11mPS</td>\n",
       "      <td>1BonuSr7</td>\n",
       "      <td>1</td>\n",
       "      <td>500</td>\n",
       "      <td>5</td>\n",
       "      <td>A</td>\n",
       "      <td>Bonet</td>\n",
       "      <td>5061</td>\n",
       "      <td>SS</td>\n",
       "    </tr>\n",
       "    <tr>\n",
       "      <th>1</th>\n",
       "      <td>40</td>\n",
       "      <td>TCP</td>\n",
       "      <td>A</td>\n",
       "      <td>WannaCry</td>\n",
       "      <td>1</td>\n",
       "      <td>1DA11mPS</td>\n",
       "      <td>1BonuSr7</td>\n",
       "      <td>1</td>\n",
       "      <td>504</td>\n",
       "      <td>8</td>\n",
       "      <td>A</td>\n",
       "      <td>Bonet</td>\n",
       "      <td>5061</td>\n",
       "      <td>SS</td>\n",
       "    </tr>\n",
       "    <tr>\n",
       "      <th>2</th>\n",
       "      <td>30</td>\n",
       "      <td>TCP</td>\n",
       "      <td>A</td>\n",
       "      <td>WannaCry</td>\n",
       "      <td>1</td>\n",
       "      <td>1DA11mPS</td>\n",
       "      <td>1BonuSr7</td>\n",
       "      <td>1</td>\n",
       "      <td>508</td>\n",
       "      <td>7</td>\n",
       "      <td>A</td>\n",
       "      <td>Bonet</td>\n",
       "      <td>5061</td>\n",
       "      <td>SS</td>\n",
       "    </tr>\n",
       "    <tr>\n",
       "      <th>3</th>\n",
       "      <td>20</td>\n",
       "      <td>TCP</td>\n",
       "      <td>A</td>\n",
       "      <td>WannaCry</td>\n",
       "      <td>1</td>\n",
       "      <td>1DA11mPS</td>\n",
       "      <td>1BonuSr7</td>\n",
       "      <td>1</td>\n",
       "      <td>512</td>\n",
       "      <td>15</td>\n",
       "      <td>A</td>\n",
       "      <td>Bonet</td>\n",
       "      <td>5061</td>\n",
       "      <td>SS</td>\n",
       "    </tr>\n",
       "    <tr>\n",
       "      <th>4</th>\n",
       "      <td>57</td>\n",
       "      <td>TCP</td>\n",
       "      <td>A</td>\n",
       "      <td>WannaCry</td>\n",
       "      <td>1</td>\n",
       "      <td>1DA11mPS</td>\n",
       "      <td>1BonuSr7</td>\n",
       "      <td>1</td>\n",
       "      <td>516</td>\n",
       "      <td>9</td>\n",
       "      <td>A</td>\n",
       "      <td>Bonet</td>\n",
       "      <td>5061</td>\n",
       "      <td>SS</td>\n",
       "    </tr>\n",
       "  </tbody>\n",
       "</table>\n",
       "</div>"
      ],
      "text/plain": [
       "   Time Protcol Flag    Family  Clusters SeddAddress ExpAddress  BTC  USD  \\\n",
       "0    50     TCP    A  WannaCry         1    1DA11mPS   1BonuSr7    1  500   \n",
       "1    40     TCP    A  WannaCry         1    1DA11mPS   1BonuSr7    1  504   \n",
       "2    30     TCP    A  WannaCry         1    1DA11mPS   1BonuSr7    1  508   \n",
       "3    20     TCP    A  WannaCry         1    1DA11mPS   1BonuSr7    1  512   \n",
       "4    57     TCP    A  WannaCry         1    1DA11mPS   1BonuSr7    1  516   \n",
       "\n",
       "   Netflow_Bytes IPaddress Threats  Port Prediction  \n",
       "0              5         A   Bonet  5061         SS  \n",
       "1              8         A   Bonet  5061         SS  \n",
       "2              7         A   Bonet  5061         SS  \n",
       "3             15         A   Bonet  5061         SS  \n",
       "4              9         A   Bonet  5061         SS  "
      ]
     },
     "execution_count": 6,
     "metadata": {},
     "output_type": "execute_result"
    }
   ],
   "source": [
    "df.head()"
   ]
  },
  {
   "cell_type": "code",
   "execution_count": 7,
   "id": "67e5b13c",
   "metadata": {},
   "outputs": [
    {
     "data": {
      "text/plain": [
       "Time              int64\n",
       "Protcol          object\n",
       "Flag             object\n",
       "Family           object\n",
       "Clusters          int64\n",
       "SeddAddress      object\n",
       "ExpAddress       object\n",
       "BTC               int64\n",
       "USD               int64\n",
       "Netflow_Bytes     int64\n",
       "IPaddress        object\n",
       "Threats          object\n",
       "Port              int64\n",
       "Prediction       object\n",
       "dtype: object"
      ]
     },
     "execution_count": 7,
     "metadata": {},
     "output_type": "execute_result"
    }
   ],
   "source": [
    "df.dtypes"
   ]
  },
  {
   "cell_type": "code",
   "execution_count": 8,
   "id": "47cdfa10",
   "metadata": {},
   "outputs": [
    {
     "name": "stdout",
     "output_type": "stream",
     "text": [
      "<class 'pandas.core.frame.DataFrame'>\n",
      "RangeIndex: 149043 entries, 0 to 149042\n",
      "Data columns (total 14 columns):\n",
      " #   Column         Non-Null Count   Dtype \n",
      "---  ------         --------------   ----- \n",
      " 0   Time           149043 non-null  int64 \n",
      " 1   Protcol        149043 non-null  object\n",
      " 2   Flag           149043 non-null  object\n",
      " 3   Family         149043 non-null  object\n",
      " 4   Clusters       149043 non-null  int64 \n",
      " 5   SeddAddress    149043 non-null  object\n",
      " 6   ExpAddress     149043 non-null  object\n",
      " 7   BTC            149043 non-null  int64 \n",
      " 8   USD            149043 non-null  int64 \n",
      " 9   Netflow_Bytes  149043 non-null  int64 \n",
      " 10  IPaddress      149043 non-null  object\n",
      " 11  Threats        149043 non-null  object\n",
      " 12  Port           149043 non-null  int64 \n",
      " 13  Prediction     149043 non-null  object\n",
      "dtypes: int64(6), object(8)\n",
      "memory usage: 15.9+ MB\n"
     ]
    }
   ],
   "source": [
    "df.info()"
   ]
  },
  {
   "cell_type": "code",
   "execution_count": 9,
   "id": "53a836be",
   "metadata": {},
   "outputs": [
    {
     "data": {
      "text/plain": [
       "<AxesSubplot:>"
      ]
     },
     "execution_count": 9,
     "metadata": {},
     "output_type": "execute_result"
    },
    {
     "data": {
      "image/png": "[encoded data removed]",
      "text/plain": [
       "<Figure size 432x288 with 1 Axes>"
      ]
     },
     "metadata": {
      "needs_background": "light"
     },
     "output_type": "display_data"
    }
   ],
   "source": [
    "df.boxplot(column='Time')"
   ]
  },
  {
   "cell_type": "code",
   "execution_count": 10,
   "id": "2ab0d5d0",
   "metadata": {},
   "outputs": [
    {
     "data": {
      "text/plain": [
       "<AxesSubplot:>"
      ]
     },
     "execution_count": 10,
     "metadata": {},
     "output_type": "execute_result"
    },
    {
     "data": {
      "image/png": "[encoded data removed]",
      "text/plain": [
       "<Figure size 432x288 with 1 Axes>"
      ]
     },
     "metadata": {
      "needs_background": "light"
     },
     "output_type": "display_data"
    }
   ],
   "source": [
    "df.boxplot(column='BTC')"
   ]
  },
  {
   "cell_type": "code",
   "execution_count": 11,
   "id": "58daf4f8",
   "metadata": {},
   "outputs": [
    {
     "data": {
      "text/plain": [
       "<AxesSubplot:>"
      ]
     },
     "execution_count": 11,
     "metadata": {},
     "output_type": "execute_result"
    },
    {
     "data": {
      "image/png": "[encoded data removed]",
      "text/plain": [
       "<Figure size 432x288 with 1 Axes>"
      ]
     },
     "metadata": {
      "needs_background": "light"
     },
     "output_type": "display_data"
    }
   ],
   "source": [
    "df['Threats'].hist()"
   ]
  },
  {
   "cell_type": "code",
   "execution_count": 12,
   "id": "696cd7c8",
   "metadata": {},
   "outputs": [
    {
     "data": {
      "image/png": "[encoded data removed]",
      "text/plain": [
       "<Figure size 432x288 with 1 Axes>"
      ]
     },
     "metadata": {
      "needs_background": "light"
     },
     "output_type": "display_data"
    }
   ],
   "source": [
    "ax = sns.countplot(x=df['Port'], data=df)\n",
    "plt.title('Bar Graph of Port')\n",
    "\n",
    "for p in ax.patches:\n",
    "    ax.annotate(f'{int(p.get_height())}', (p.get_x() + p.get_width() / 2., p.get_height()),\n",
    "                ha='center', va='center', fontsize=10, color='black', xytext=(0, 5),\n",
    "                textcoords='offset points')\n",
    "\n",
    "plt.show()"
   ]
  },
  {
   "cell_type": "code",
   "execution_count": 13,
   "id": "6d18bc31",
   "metadata": {},
   "outputs": [],
   "source": [
    "encoder = LabelEncoder()\n",
    "df['Protcol'] = encoder.fit_transform(df['Protcol'])\n",
    "df['SeddAddress'] = encoder.fit_transform(df['SeddAddress'])\n",
    "df['ExpAddress'] = encoder.fit_transform(df['ExpAddress'])\n",
    "df['Time'] = encoder.fit_transform(df['Time'])\n",
    "df['IPaddress'] = encoder.fit_transform(df['IPaddress'])\n",
    "df['Prediction'] = np.where(df['Prediction'] == 'A' , 1, 0)\n",
    "\n",
    "df = df.drop('USD', axis=1)\n",
    "df = df.drop('Flag', axis=1)\n",
    "df = df.drop('Family', axis=1)\n",
    "df = df.drop('Threats', axis=1)\n",
    "df = df.drop('BTC', axis=1)\n",
    "df = df.drop('Netflow_Bytes', axis=1)\n",
    "df = df.drop('Clusters', axis=1)\n",
    "\n",
    "\n",
    "\n",
    "# Split data into features and target\n",
    "X = df.drop('Prediction', axis=1)\n",
    "y = df['Prediction']"
   ]
  },
  {
   "cell_type": "code",
   "execution_count": 14,
   "id": "a9a92f25",
   "metadata": {},
   "outputs": [
    {
     "data": {
      "text/html": [
       "<div>\n",
       "<style scoped>\n",
       "    .dataframe tbody tr th:only-of-type {\n",
       "        vertical-align: middle;\n",
       "    }\n",
       "\n",
       "    .dataframe tbody tr th {\n",
       "        vertical-align: top;\n",
       "    }\n",
       "\n",
       "    .dataframe thead th {\n",
       "        text-align: right;\n",
       "    }\n",
       "</style>\n",
       "<table border=\"1\" class=\"dataframe\">\n",
       "  <thead>\n",
       "    <tr style=\"text-align: right;\">\n",
       "      <th></th>\n",
       "      <th>Time</th>\n",
       "      <th>Protcol</th>\n",
       "      <th>SeddAddress</th>\n",
       "      <th>ExpAddress</th>\n",
       "      <th>IPaddress</th>\n",
       "      <th>Port</th>\n",
       "      <th>Prediction</th>\n",
       "    </tr>\n",
       "  </thead>\n",
       "  <tbody>\n",
       "    <tr>\n",
       "      <th>0</th>\n",
       "      <td>56</td>\n",
       "      <td>1</td>\n",
       "      <td>2</td>\n",
       "      <td>2</td>\n",
       "      <td>0</td>\n",
       "      <td>5061</td>\n",
       "      <td>0</td>\n",
       "    </tr>\n",
       "    <tr>\n",
       "      <th>1</th>\n",
       "      <td>46</td>\n",
       "      <td>1</td>\n",
       "      <td>2</td>\n",
       "      <td>2</td>\n",
       "      <td>0</td>\n",
       "      <td>5061</td>\n",
       "      <td>0</td>\n",
       "    </tr>\n",
       "    <tr>\n",
       "      <th>2</th>\n",
       "      <td>36</td>\n",
       "      <td>1</td>\n",
       "      <td>2</td>\n",
       "      <td>2</td>\n",
       "      <td>0</td>\n",
       "      <td>5061</td>\n",
       "      <td>0</td>\n",
       "    </tr>\n",
       "    <tr>\n",
       "      <th>3</th>\n",
       "      <td>26</td>\n",
       "      <td>1</td>\n",
       "      <td>2</td>\n",
       "      <td>2</td>\n",
       "      <td>0</td>\n",
       "      <td>5061</td>\n",
       "      <td>0</td>\n",
       "    </tr>\n",
       "    <tr>\n",
       "      <th>4</th>\n",
       "      <td>63</td>\n",
       "      <td>1</td>\n",
       "      <td>2</td>\n",
       "      <td>2</td>\n",
       "      <td>0</td>\n",
       "      <td>5061</td>\n",
       "      <td>0</td>\n",
       "    </tr>\n",
       "  </tbody>\n",
       "</table>\n",
       "</div>"
      ],
      "text/plain": [
       "   Time  Protcol  SeddAddress  ExpAddress  IPaddress  Port  Prediction\n",
       "0    56        1            2           2          0  5061           0\n",
       "1    46        1            2           2          0  5061           0\n",
       "2    36        1            2           2          0  5061           0\n",
       "3    26        1            2           2          0  5061           0\n",
       "4    63        1            2           2          0  5061           0"
      ]
     },
     "execution_count": 14,
     "metadata": {},
     "output_type": "execute_result"
    }
   ],
   "source": [
    "df.head()"
   ]
  },
  {
   "cell_type": "code",
   "execution_count": 15,
   "id": "b87b6775",
   "metadata": {},
   "outputs": [],
   "source": [
    "def preprocess_data(df):\n",
    "\n",
    "    # Split features and target variable\n",
    "    X = df.drop('Prediction', axis=1)\n",
    "    y = df['Prediction']\n",
    "    return X, y"
   ]
  },
  {
   "cell_type": "code",
   "execution_count": 16,
   "id": "d19b69c3",
   "metadata": {},
   "outputs": [],
   "source": [
    "# Function to predict intrusion\n",
    "def predict_intrusion(model, X):\n",
    "    return model.predict(X)"
   ]
  },
  {
   "cell_type": "code",
   "execution_count": 17,
   "id": "60ec4812",
   "metadata": {},
   "outputs": [],
   "source": [
    "# Preprocess data\n",
    "X, y = preprocess_data(df)"
   ]
  },
  {
   "cell_type": "code",
   "execution_count": 18,
   "id": "c47c8b52",
   "metadata": {},
   "outputs": [],
   "source": [
    "# Split data into training and testing sets\n",
    "X_train, X_test, y_train, y_test = train_test_split(X, y, test_size=0.30, random_state=13)"
   ]
  },
  {
   "cell_type": "code",
   "execution_count": 19,
   "id": "64c39182",
   "metadata": {},
   "outputs": [],
   "source": [
    "# Train SVM model\n",
    "X_train_array = X_train.iloc[:, 1:].values\n",
    "X_test_array = X_test.iloc[:, 1:].values\n",
    "svm = SVM()\n",
    "svm.fit(X_train_array, y)"
   ]
  },
  {
   "cell_type": "code",
   "execution_count": 20,
   "id": "0571ee45",
   "metadata": {},
   "outputs": [],
   "source": [
    "# Make predictions on the testing set\n",
    "y_pred = svm.predict(X_test_array)"
   ]
  },
  {
   "cell_type": "code",
   "execution_count": 21,
   "id": "78c699d7",
   "metadata": {},
   "outputs": [
    {
     "name": "stdout",
     "output_type": "stream",
     "text": [
      "Accuracy: 0.717106881667524\n"
     ]
    }
   ],
   "source": [
    "print(\"Accuracy:\", accuracy_score(y_test, y_pred))"
   ]
  },
  {
   "cell_type": "code",
   "execution_count": 22,
   "id": "e18f5d70",
   "metadata": {},
   "outputs": [
    {
     "name": "stdout",
     "output_type": "stream",
     "text": [
      "Precision: 0.7975699088979152\n",
      "Recall: 0.7181052702204033\n",
      "F-measure: 0.755754482015028\n"
     ]
    },
    {
     "name": "stderr",
     "output_type": "stream",
     "text": [
      "/home/test/.local/lib/python3.6/site-packages/sklearn/svm/_base.py:986: ConvergenceWarning: Liblinear failed to converge, increase the number of iterations.\n",
      "  \"the number of iterations.\", ConvergenceWarning)\n"
     ]
    }
   ],
   "source": [
    "precision = precision_score(y_test, y_pred, average='weighted', zero_division=1)\n",
    "recall = recall_score(y_test, y_pred, average='weighted')\n",
    "f_measure = ((2 * precision * recall) / (precision + recall))\n",
    "print(\"Precision:\", precision)\n",
    "print(\"Recall:\", recall)\n",
    "print(\"F-measure:\", f_measure)"
]
  },
  {
   "cell_type": "code",
   "execution_count": 23,
   "id": "ae5cb4c8",
   "metadata": {},
   "outputs": [],
   "source": [
    "import asyncio\n",
    "import nest_asyncio\n",
    "import pyshark\n",
    "import csv\n",
    "\n",
    "async def packet_capture():\n",
    "    capture = pyshark.LiveCapture(interface='ens33')\n",
    "    with open('output.csv', 'w', newline='') as csvfile:\n",
    "        fieldnames = ['frame.number', 'frame.time', 'ip.src', 'ip.dst', 'tcp.srcport', 'tcp.dstport']\n",
    "        writer = csv.DictWriter(csvfile, fieldnames=fieldnames)\n",
    "        writer.writeheader()\n",
    "        for packet in capture.sniff_continuously(packet_count=10):\n",
    "            print(packet)\n",
    "            if 'ip' in packet:\n",
    "                ip_src = packet.ip.src\n",
    "                ip_dst = packet.ip.dst\n",
    "            else:\n",
    "                ip_src = ip_dst = ''\n",
    "\n",
    "            # Check if the packet has a TCP layer\n",
    "            if 'tcp' in packet:\n",
    "                tcp_srcport = packet.tcp.srcport\n",
    "                tcp_dstport = packet.tcp.dstport\n",
    "            else:\n",
    "                tcp_srcport = tcp_dstport = ''\n",
    "            frame_number = packet.frame_info.number\n",
    "            frame_time = packet.sniff_time\n",
    "            tcp_srcport = packet.tcp.srcport if 'tcp' in packet else ''\n",
    "            tcp_dstport = packet.tcp.dstport if 'tcp' in packet else ''\n",
    "        \n",
    "            writer.writerow({\n",
    "                'frame.number': frame_number,\n",
    "                'frame.time': frame_time,\n",
    "                'ip.src': ip_src,\n",
    "                'ip.dst': ip_dst,\n",
    "                'tcp.srcport': tcp_srcport,\n",
    "                'tcp.dstport': tcp_dstport\n",
    "            })\n",
    "\n",
    "\n",
    "            \n",
    "\n",
    "def prediction_generate(packets, predictions):\n",
    "    intrusion_values = []\n",
    "    for index, packet in packets.iterrows():\n",
    "        if packet['tcp.dstport'] == 678:\n",
    "            intrusion_values.append(1)\n",
    "        else:\n",
    "            intrusion_values.append(predictions[index])\n",
    "    packets['Intrusion'] = intrusion_values           \n",
    "            \n",
    "            \n",
    "            \n",
    "# Apply nest_asyncio to allow nested event loops in Jupyter Notebook                                                                                                                                   \n",
    "#nest_asyncio.apply()\n",
    "\n",
    "# Create a new event loop\n",
    "#loop = asyncio.get_event_loop()\n",
    "\n",
    "# Run the coroutine within the event loop\n",
    "#loop.run_until_complete(packet_capture())"
   ]
  },
  {
   "cell_type": "code",
   "execution_count": 24,
   "id": "31756aa3",
   "metadata": {},
   "outputs": [],
   "source": [
    "# Function to preprocess captured data\n",
    "def preprocess_captured_data(df):\n",
    "    \n",
    "    df = df.drop('frame.time', axis=1)\n",
    "    \n",
    "    df['ip.src'] = encoder.fit_transform(df['ip.src'])  \n",
    "    df['ip.dst'] = encoder.fit_transform(df['ip.dst'])\n",
    "    df['tcp.dstport'] = encoder.fit_transform(df['tcp.dstport'])\n",
    "    df['frame.number'] = encoder.fit_transform(df['frame.number'])\n",
    "    df['tcp.srcport'] = encoder.fit_transform(df['tcp.srcport'])\n",
    "\n",
    "    return df"
   ]
  },
  {
   "cell_type": "code",
   "execution_count": 25,
   "id": "b79483b1",
   "metadata": {},
   "outputs": [],
   "source": [
    "# import joblib\n",
    "\n",
    "# joblib.dump(svm, 'svm_model.joblib')"
   ]
  },
  {
   "cell_type": "code",
   "execution_count": 26,
   "id": "af327882",
   "metadata": {},
   "outputs": [],
   "source": [
    "import smtplib\n",
    "from email.mime.text import MIMEText\n",
    "from email.mime.multipart import MIMEMultipart\n",
    "\n",
    "def send_email(sender_email, receiver_email, subject, message_body, smtp_server, smtp_port, smtp_username, smtp_password):\n",
    "    message = MIMEMultipart()\n",
    "    message['From'] = sender_email\n",
    "    message['To'] = receiver_email\n",
    "    message['Subject'] = subject\n",
    "\n",
    "    message.attach(MIMEText(message_body, 'plain'))\n",
    "\n",
    "    with smtplib.SMTP(smtp_server, smtp_port) as server:\n",
    "        server.starttls()\n",
    "        server.login(smtp_username, smtp_password)\n",
    "        server.send_message(message)\n",
    "\n",
    "\n",
    "sender_email = 'alertnids@gmail.com'\n",
    "receiver_email = 'suyashadhikari99@gmail.com'\n",
    "subject = 'Intrusion Detected'\n",
    "message_body = 'We have detected an intrusion in your network. Please look out for attackers trying to breach your data'\n",
    "smtp_server = 'smtp.gmail.com'  \n",
    "smtp_port = 587\n",
    "smtp_username = 'alertnids@gmail.com'\n",
    "smtp_password = 'qdnt htih hbic revy'\n",
    "\n",
    "\n",
    "# send_email(sender_email, receiver_email, subject, message_body, smtp_server, smtp_port, smtp_username, smtp_password)\n"
   ]
  },
  {
   "cell_type": "code",
   "execution_count": 27,
   "id": "c456dd7b",
   "metadata": {},
   "outputs": [
    {
     "data": {
      "application/vnd.jupyter.widget-view+json": {
       "model_id": "6930d296901e46f4bd97a6cfa53b7141",
       "version_major": 2,
       "version_minor": 0
      },
      "text/plain": [
       "Dropdown(description='Interface:', options=('ens33',), value='ens33')"
      ]
     },
     "metadata": {},
     "output_type": "display_data"
    },
    {
     "data": {
      "application/vnd.jupyter.widget-view+json": {
       "model_id": "d4c460c027ff4af99e77d9be9682a675",
       "version_major": 2,
       "version_minor": 0
      },
      "text/plain": [
       "IntText(value=10, description='Packet Count:')"
      ]
     },
     "metadata": {},
     "output_type": "display_data"
    },
    {
     "data": {
      "application/vnd.jupyter.widget-view+json": {
       "model_id": "c3ea3e05c24841c9936373eec44169b2",
       "version_major": 2,
       "version_minor": 0
      },
      "text/plain": [
       "Button(description='Start Capturing', style=ButtonStyle())"
      ]
     },
     "metadata": {},
     "output_type": "display_data"
    },
    {
     "data": {
      "application/vnd.jupyter.widget-view+json": {
       "model_id": "6ee566a438604e8cae6f68effc5af00b",
       "version_major": 2,
       "version_minor": 0
      },
      "text/plain": [
       "Button(description='Show Report', style=ButtonStyle())"
      ]
     },
     "metadata": {},
     "output_type": "display_data"
    },
    {
     "data": {
      "application/vnd.jupyter.widget-view+json": {
       "model_id": "e39c28b7d558446d926d6247a80bde23",
       "version_major": 2,
       "version_minor": 0
      },
      "text/plain": [
       "Output()"
      ]
     },
     "metadata": {},
     "output_type": "display_data"
    }
   ],
   "source": [
    "from scapy.all import *\n",
    "import ipywidgets as widgets\n",
    "from IPython.display import display\n",
    "\n",
    "\n",
    "def get_if_list():\n",
    "    return ['ens33']\n",
    "\n",
    "interface_dropdown = widgets.Dropdown(\n",
    "    options=get_if_list(),\n",
    "    description='Interface:'\n",
    ")\n",
    "\n",
    "packet_count_input = widgets.IntText(\n",
    "    value=10,\n",
    "    description='Packet Count:'\n",
    ")\n",
    "\n",
    "capture_button = widgets.Button(\n",
    "    description='Start Capturing'\n",
    ")\n",
    "\n",
    "report_button = widgets.Button(\n",
    "    description='Show Report'\n",
    ")\n",
    "\n",
    "output_widget = widgets.Output()\n",
    "\n",
    "# Define event handlers\n",
    "def on_capture_button_clicked(b):\n",
    "    output_widget.clear_output(wait=True)\n",
    "    with output_widget:\n",
    "        # Apply nest_asyncio to allow nested event loops in Jupyter Notebook\n",
    "        nest_asyncio.apply()\n",
    "\n",
    "        # Create a new event loop\n",
    "        loop = asyncio.get_event_loop()\n",
    "\n",
    "        # Run the coroutine within the event loop\n",
    "        loop.run_until_complete(packet_capture())\n",
    "        \n",
    "\n",
    "def prediction_generate(packets, predictions):\n",
    "    intrusion_values = []\n",
    "    for index, packet in packets.iterrows():\n",
    "        if packet['tcp.dstport'] in [5066, 5061, 5062, 5068]:\n",
    "            intrusion_values.append(1)\n",
    "        else:\n",
    "            intrusion_values.append(predictions[index])\n",
    "    packets['Intrusion'] = intrusion_values\n",
    "        \n",
    "        \n",
    "def post_task(b):\n",
    "        packets = pd.read_csv('output.csv')\n",
    "        flag = 0\n",
    "        processed_packets = preprocess_captured_data(packets)\n",
    "        predictions = svm.predict(processed_packets)\n",
    "        prediction_generate(packets, predictions)\n",
    "        print(packets)\n",
    "        for index, row in packets.iterrows():\n",
    "            if row['Intrusion'] == 1:\n",
    "                flag = 1\n",
    "        if flag==1:\n",
    "            send_email(sender_email, receiver_email, subject, message_body, smtp_server, smtp_port, smtp_username, smtp_password)\n",
    "            pywhatkit.sendwhatmsg_to_group_instantly(\"HiNZLYyIFczBxqeErlLp22\", \"NIDS Alert!!!!\\nIntrusion Detected in your system\", 35, True)\n",
    "        \n",
    "    \n",
    "\n",
    "\n",
    "# Assign event handlers\n",
    "capture_button.on_click(on_capture_button_clicked)\n",
    "report_button.on_click(post_task)\n",
    "\n",
    "# Display widgets\n",
    "display(interface_dropdown)\n",
    "display(packet_count_input)\n",
    "display(capture_button)\n",
    "display(report_button)\n",
    "display(output_widget)\n"
   ]
  }
 ],
 "metadata": {
  "kernelspec": {
   "display_name": "Python 3",
   "language": "python",
   "name": "python3"
  },
  "language_info": {
   "codemirror_mode": {
    "name": "ipython",
    "version": 3
   },
   "file_extension": ".py",
   "mimetype": "text/x-python",
   "name": "python",
   "nbconvert_exporter": "python",
   "pygments_lexer": "ipython3",
   "version": "3.6.8"
  }
 },
 "nbformat": 4,
 "nbformat_minor": 5
}
