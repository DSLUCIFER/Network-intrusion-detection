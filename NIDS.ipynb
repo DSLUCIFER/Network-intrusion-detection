{
  "nbformat": 4,
  "nbformat_minor": 0,
  "metadata": {
    "colab": {
      "provenance": [],
      "authorship_tag": "ABX9TyNypzWd+irvmEQH3A9EDHol",
      "include_colab_link": true
    },
    "kernelspec": {
      "name": "python3",
      "display_name": "Python 3"
    },
    "language_info": {
      "name": "python"
    }
  },
  "cells": [
    {
      "cell_type": "markdown",
      "metadata": {
        "id": "view-in-github",
        "colab_type": "text"
      },
      "source": [
        "<a href=\"https://colab.research.google.com/github/DSLUCIFER/Network-intrusion-detection/blob/main/NIDS.ipynb\" target=\"_parent\"><img src=\"https://colab.research.google.com/assets/colab-badge.svg\" alt=\"Open In Colab\"/></a>"
      ]
    },
    {
      "cell_type": "code",
      "execution_count": 78,
      "metadata": {
        "id": "Q10Tzz4_IoqG"
      },
      "outputs": [],
      "source": [
        "import numpy as np\n",
        "import pandas as pd\n",
        "import seaborn as sns\n",
        "from sklearn.model_selection import train_test_split\n",
        "from sklearn.svm import SVC\n",
        "from sklearn.metrics import classification_report, accuracy_score\n",
        "from sklearn.preprocessing import MinMaxScaler\n"
      ]
    },
    {
      "cell_type": "code",
      "source": [
        "data = pd.read_csv('/content/final(2) (1).csv')"
      ],
      "metadata": {
        "id": "oKR0MzTNIyjQ"
      },
      "execution_count": 79,
      "outputs": []
    },
    {
      "cell_type": "code",
      "source": [
        "print(data.columns)"
      ],
      "metadata": {
        "colab": {
          "base_uri": "https://localhost:8080/"
        },
        "id": "-1Wx6FQOI51D",
        "outputId": "386a7074-20ca-4a71-b8cb-75ae02a6c9fd"
      },
      "execution_count": 80,
      "outputs": [
        {
          "output_type": "stream",
          "name": "stdout",
          "text": [
            "Index(['Time', 'Protcol', 'Flag', 'Family', 'Clusters', 'SeddAddress',\n",
            "       'ExpAddress', 'BTC', 'USD', 'Netflow_Bytes', 'IPaddress', 'Threats',\n",
            "       'Port', 'Prediction'],\n",
            "      dtype='object')\n"
          ]
        }
      ]
    },
    {
      "cell_type": "code",
      "source": [
        "print(data.head())"
      ],
      "metadata": {
        "colab": {
          "base_uri": "https://localhost:8080/"
        },
        "id": "D6mOcjRjI8-o",
        "outputId": "2b70d92f-2184-46d5-ee78-8c3418d3d4f8"
      },
      "execution_count": 81,
      "outputs": [
        {
          "output_type": "stream",
          "name": "stdout",
          "text": [
            "   Time Protcol Flag    Family  Clusters SeddAddress ExpAddress  BTC  USD  \\\n",
            "0    50     TCP    A  WannaCry         1    1DA11mPS   1BonuSr7    1  500   \n",
            "1    40     TCP    A  WannaCry         1    1DA11mPS   1BonuSr7    1  504   \n",
            "2    30     TCP    A  WannaCry         1    1DA11mPS   1BonuSr7    1  508   \n",
            "3    20     TCP    A  WannaCry         1    1DA11mPS   1BonuSr7    1  512   \n",
            "4    57     TCP    A  WannaCry         1    1DA11mPS   1BonuSr7    1  516   \n",
            "\n",
            "   Netflow_Bytes IPaddress Threats  Port Prediction  \n",
            "0              5         A   Bonet  5061         SS  \n",
            "1              8         A   Bonet  5061         SS  \n",
            "2              7         A   Bonet  5061         SS  \n",
            "3             15         A   Bonet  5061         SS  \n",
            "4              9         A   Bonet  5061         SS  \n"
          ]
        }
      ]
    },
    {
      "cell_type": "code",
      "source": [
        "data.info()"
      ],
      "metadata": {
        "colab": {
          "base_uri": "https://localhost:8080/"
        },
        "id": "tc_4e_jSI_UT",
        "outputId": "66047633-2a07-4477-fbd2-02a7fc9089a7"
      },
      "execution_count": 82,
      "outputs": [
        {
          "output_type": "stream",
          "name": "stdout",
          "text": [
            "<class 'pandas.core.frame.DataFrame'>\n",
            "RangeIndex: 149043 entries, 0 to 149042\n",
            "Data columns (total 14 columns):\n",
            " #   Column         Non-Null Count   Dtype \n",
            "---  ------         --------------   ----- \n",
            " 0   Time           149043 non-null  int64 \n",
            " 1   Protcol        149043 non-null  object\n",
            " 2   Flag           149043 non-null  object\n",
            " 3   Family         149043 non-null  object\n",
            " 4   Clusters       149043 non-null  int64 \n",
            " 5   SeddAddress    149043 non-null  object\n",
            " 6   ExpAddress     149043 non-null  object\n",
            " 7   BTC            149043 non-null  int64 \n",
            " 8   USD            149043 non-null  int64 \n",
            " 9   Netflow_Bytes  149043 non-null  int64 \n",
            " 10  IPaddress      149043 non-null  object\n",
            " 11  Threats        149043 non-null  object\n",
            " 12  Port           149043 non-null  int64 \n",
            " 13  Prediction     149043 non-null  object\n",
            "dtypes: int64(6), object(8)\n",
            "memory usage: 15.9+ MB\n"
          ]
        }
      ]
    },
    {
      "cell_type": "code",
      "source": [
        "# Identify categorical variables\n",
        "categorical_cols = ['Protcol', 'Flag', 'Family']"
      ],
      "metadata": {
        "id": "LBpfgTcdJCvt"
      },
      "execution_count": 83,
      "outputs": []
    },
    {
      "cell_type": "code",
      "source": [
        "X_categorical = pd.get_dummies(data[categorical_cols])"
      ],
      "metadata": {
        "id": "g4obnTyHKMLM"
      },
      "execution_count": 84,
      "outputs": []
    },
    {
      "cell_type": "code",
      "source": [
        "# Numerical features\n",
        "numerical_cols = ['Time', 'Clusters', 'BTC', 'USD', 'Netflow_Bytes', 'Threats', 'Port']  # Assuming these are numerical columns\n",
        "X_numerical = data[numerical_cols]"
      ],
      "metadata": {
        "id": "_gtZh045KQan"
      },
      "execution_count": 85,
      "outputs": []
    },
    {
      "cell_type": "code",
      "source": [
        "# Concatenate one-hot encoded features with numerical features\n",
        "X = pd.concat([X_categorical, X_numerical], axis=1)"
      ],
      "metadata": {
        "id": "KnyYR9rrKnsI"
      },
      "execution_count": 86,
      "outputs": []
    },
    {
      "cell_type": "code",
      "source": [
        "for column in X.columns:\n",
        "    if X[column].dtype == \"object\":\n",
        "        print(column)"
      ],
      "metadata": {
        "colab": {
          "base_uri": "https://localhost:8080/"
        },
        "id": "mmQrqh7wNIVF",
        "outputId": "ae9f07f0-1e4e-43a1-88e3-040455a5712a"
      },
      "execution_count": 87,
      "outputs": [
        {
          "output_type": "stream",
          "name": "stdout",
          "text": [
            "Threats\n"
          ]
        }
      ]
    },
    {
      "cell_type": "code",
      "source": [
        "X = X.drop(columns=[\"Threats\"])"
      ],
      "metadata": {
        "id": "XcHwkOXfNMUL"
      },
      "execution_count": 88,
      "outputs": []
    },
    {
      "cell_type": "code",
      "source": [
        "# Normalize the features\n",
        "scaler = MinMaxScaler()\n",
        "X_normalized = scaler.fit_transform(X)"
      ],
      "metadata": {
        "id": "MdV9uW2rKsVF"
      },
      "execution_count": 89,
      "outputs": []
    },
    {
      "cell_type": "code",
      "source": [
        "print(X_normalized)"
      ],
      "metadata": {
        "colab": {
          "base_uri": "https://localhost:8080/"
        },
        "id": "bsVMjBz3Ku8G",
        "outputId": "0becd151-e209-4201-84d3-f0dc42de482a"
      },
      "execution_count": 90,
      "outputs": [
        {
          "output_type": "stream",
          "name": "stdout",
          "text": [
            "[[0.00000000e+00 1.00000000e+00 0.00000000e+00 ... 3.94847204e-03\n",
            "  3.23650781e-04 0.00000000e+00]\n",
            " [0.00000000e+00 1.00000000e+00 0.00000000e+00 ... 3.98012312e-03\n",
            "  5.66388866e-04 0.00000000e+00]\n",
            " [0.00000000e+00 1.00000000e+00 0.00000000e+00 ... 4.01177420e-03\n",
            "  4.85476171e-04 0.00000000e+00]\n",
            " ...\n",
            " [0.00000000e+00 0.00000000e+00 1.00000000e+00 ... 1.26683442e-02\n",
            "  2.71947569e-01 1.42857143e-01]\n",
            " [0.00000000e+00 0.00000000e+00 1.00000000e+00 ... 1.27158208e-02\n",
            "  2.72837608e-01 1.42857143e-01]\n",
            " [0.00000000e+00 0.00000000e+00 1.00000000e+00 ... 1.27632974e-02\n",
            "  2.73727648e-01 1.42857143e-01]]\n"
          ]
        }
      ]
    },
    {
      "cell_type": "code",
      "source": [
        "train=pd.read_csv('/content/final(2) (1).csv')"
      ],
      "metadata": {
        "id": "LLp4fpKjSwZW"
      },
      "execution_count": 91,
      "outputs": []
    },
    {
      "cell_type": "code",
      "source": [
        "test=pd.read_csv('/content/final(2) (1).csv')"
      ],
      "metadata": {
        "id": "TEKJiyVHS8Dp"
      },
      "execution_count": 92,
      "outputs": []
    },
    {
      "cell_type": "code",
      "source": [
        "sns.countplot(x='Prediction', data=train)"
      ],
      "metadata": {
        "colab": {
          "base_uri": "https://localhost:8080/",
          "height": 467
        },
        "id": "ekrLoItXS-bE",
        "outputId": "ef65c1e4-c719-4e79-f626-408c07449b96"
      },
      "execution_count": 93,
      "outputs": [
        {
          "output_type": "execute_result",
          "data": {
            "text/plain": [
              "<Axes: xlabel='Prediction', ylabel='count'>"
            ]
          },
          "metadata": {},
          "execution_count": 93
        },
        {
          "output_type": "display_data",
          "data": {
            "text/plain": [
              "<Figure size 640x480 with 1 Axes>"
            ],
            "image/png": "[encoded data removed]"
          },
          "metadata": {}
        }
      ]
    },
    {
      "cell_type": "code",
      "source": [
        "sns.countplot(x='Threats', data=train)"
      ],
      "metadata": {
        "colab": {
          "base_uri": "https://localhost:8080/",
          "height": 467
        },
        "id": "66L6SJ33Tcuw",
        "outputId": "16aeb701-2fc8-419f-84b4-93bb1e2efc14"
      },
      "execution_count": 94,
      "outputs": [
        {
          "output_type": "execute_result",
          "data": {
            "text/plain": [
              "<Axes: xlabel='Threats', ylabel='count'>"
            ]
          },
          "metadata": {},
          "execution_count": 94
        },
        {
          "output_type": "display_data",
          "data": {
            "text/plain": [
              "<Figure size 640x480 with 1 Axes>"
            ],
            "image/png": "[encoded data removed]"
          },
          "metadata": {}
        }
      ]
    },
    {
      "cell_type": "code",
      "source": [
        "# Splitting normalized data into train and test sets\n",
        "X_train, X_test, y_train, y_test = train_test_split(X_normalized, y, test_size=0.2, random_state=42)"
      ],
      "metadata": {
        "id": "iwFI3H7KLXOC"
      },
      "execution_count": 95,
      "outputs": []
    },
    {
      "cell_type": "code",
      "source": [
        "# Model training\n",
        "# Using Support Vector Machine (SVM) classifier\n",
        "svm_classifier = SVC(kernel='rbf', gamma='auto')  # You can experiment with different kernels and parameters\n",
        "svm_classifier.fit(X_train, y_train)"
      ],
      "metadata": {
        "colab": {
          "base_uri": "https://localhost:8080/",
          "height": 74
        },
        "id": "CM2qVlrYLrWt",
        "outputId": "d31d3104-13c5-44a0-deff-3259b91d0012"
      },
      "execution_count": 96,
      "outputs": [
        {
          "output_type": "execute_result",
          "data": {
            "text/plain": [
              "SVC(gamma='auto')"
            ],
            "text/html": [
              "<style>#sk-container-id-3 {color: black;background-color: white;}#sk-container-id-3 pre{padding: 0;}#sk-container-id-3 div.sk-toggleable {background-color: white;}#sk-container-id-3 label.sk-toggleable__label {cursor: pointer;display: block;width: 100%;margin-bottom: 0;padding: 0.3em;box-sizing: border-box;text-align: center;}#sk-container-id-3 label.sk-toggleable__label-arrow:before {content: \"▸\";float: left;margin-right: 0.25em;color: #696969;}#sk-container-id-3 label.sk-toggleable__label-arrow:hover:before {color: black;}#sk-container-id-3 div.sk-estimator:hover label.sk-toggleable__label-arrow:before {color: black;}#sk-container-id-3 div.sk-toggleable__content {max-height: 0;max-width: 0;overflow: hidden;text-align: left;background-color: #f0f8ff;}#sk-container-id-3 div.sk-toggleable__content pre {margin: 0.2em;color: black;border-radius: 0.25em;background-color: #f0f8ff;}#sk-container-id-3 input.sk-toggleable__control:checked~div.sk-toggleable__content {max-height: 200px;max-width: 100%;overflow: auto;}#sk-container-id-3 input.sk-toggleable__control:checked~label.sk-toggleable__label-arrow:before {content: \"▾\";}#sk-container-id-3 div.sk-estimator input.sk-toggleable__control:checked~label.sk-toggleable__label {background-color: #d4ebff;}#sk-container-id-3 div.sk-label input.sk-toggleable__control:checked~label.sk-toggleable__label {background-color: #d4ebff;}#sk-container-id-3 input.sk-hidden--visually {border: 0;clip: rect(1px 1px 1px 1px);clip: rect(1px, 1px, 1px, 1px);height: 1px;margin: -1px;overflow: hidden;padding: 0;position: absolute;width: 1px;}#sk-container-id-3 div.sk-estimator {font-family: monospace;background-color: #f0f8ff;border: 1px dotted black;border-radius: 0.25em;box-sizing: border-box;margin-bottom: 0.5em;}#sk-container-id-3 div.sk-estimator:hover {background-color: #d4ebff;}#sk-container-id-3 div.sk-parallel-item::after {content: \"\";width: 100%;border-bottom: 1px solid gray;flex-grow: 1;}#sk-container-id-3 div.sk-label:hover label.sk-toggleable__label {background-color: #d4ebff;}#sk-container-id-3 div.sk-serial::before {content: \"\";position: absolute;border-left: 1px solid gray;box-sizing: border-box;top: 0;bottom: 0;left: 50%;z-index: 0;}#sk-container-id-3 div.sk-serial {display: flex;flex-direction: column;align-items: center;background-color: white;padding-right: 0.2em;padding-left: 0.2em;position: relative;}#sk-container-id-3 div.sk-item {position: relative;z-index: 1;}#sk-container-id-3 div.sk-parallel {display: flex;align-items: stretch;justify-content: center;background-color: white;position: relative;}#sk-container-id-3 div.sk-item::before, #sk-container-id-3 div.sk-parallel-item::before {content: \"\";position: absolute;border-left: 1px solid gray;box-sizing: border-box;top: 0;bottom: 0;left: 50%;z-index: -1;}#sk-container-id-3 div.sk-parallel-item {display: flex;flex-direction: column;z-index: 1;position: relative;background-color: white;}#sk-container-id-3 div.sk-parallel-item:first-child::after {align-self: flex-end;width: 50%;}#sk-container-id-3 div.sk-parallel-item:last-child::after {align-self: flex-start;width: 50%;}#sk-container-id-3 div.sk-parallel-item:only-child::after {width: 0;}#sk-container-id-3 div.sk-dashed-wrapped {border: 1px dashed gray;margin: 0 0.4em 0.5em 0.4em;box-sizing: border-box;padding-bottom: 0.4em;background-color: white;}#sk-container-id-3 div.sk-label label {font-family: monospace;font-weight: bold;display: inline-block;line-height: 1.2em;}#sk-container-id-3 div.sk-label-container {text-align: center;}#sk-container-id-3 div.sk-container {/* jupyter's `normalize.less` sets `[hidden] { display: none; }` but bootstrap.min.css set `[hidden] { display: none !important; }` so we also need the `!important` here to be able to override the default hidden behavior on the sphinx rendered scikit-learn.org. See: https://github.com/scikit-learn/scikit-learn/issues/21755 */display: inline-block !important;position: relative;}#sk-container-id-3 div.sk-text-repr-fallback {display: none;}</style><div id=\"sk-container-id-3\" class=\"sk-top-container\"><div class=\"sk-text-repr-fallback\"><pre>SVC(gamma=&#x27;auto&#x27;)</pre><b>In a Jupyter environment, please rerun this cell to show the HTML representation or trust the notebook. <br />On GitHub, the HTML representation is unable to render, please try loading this page with nbviewer.org.</b></div><div class=\"sk-container\" hidden><div class=\"sk-item\"><div class=\"sk-estimator sk-toggleable\"><input class=\"sk-toggleable__control sk-hidden--visually\" id=\"sk-estimator-id-3\" type=\"checkbox\" checked><label for=\"sk-estimator-id-3\" class=\"sk-toggleable__label sk-toggleable__label-arrow\">SVC</label><div class=\"sk-toggleable__content\"><pre>SVC(gamma=&#x27;auto&#x27;)</pre></div></div></div></div></div>"
            ]
          },
          "metadata": {},
          "execution_count": 96
        }
      ]
    },
    {
      "cell_type": "code",
      "source": [
        "# Model evaluation\n",
        "y_pred = svm_classifier.predict(X_test)\n",
        "print(\"Accuracy:\", accuracy_score(y_test, y_pred))\n",
        "print(\"Classification Report:\")\n",
        "print(classification_report(y_test, y_pred))"
      ],
      "metadata": {
        "colab": {
          "base_uri": "https://localhost:8080/"
        },
        "id": "WgEqG9dWNbCM",
        "outputId": "70f3197e-eaf3-47dc-a0a7-5795f91f3e94"
      },
      "execution_count": 97,
      "outputs": [
        {
          "output_type": "stream",
          "name": "stdout",
          "text": [
            "Accuracy: 1.0\n",
            "Classification Report:\n",
            "              precision    recall  f1-score   support\n",
            "\n",
            "        ICMP       1.00      1.00      1.00      7396\n",
            "         TCP       1.00      1.00      1.00     13705\n",
            "         UDP       1.00      1.00      1.00      8708\n",
            "\n",
            "    accuracy                           1.00     29809\n",
            "   macro avg       1.00      1.00      1.00     29809\n",
            "weighted avg       1.00      1.00      1.00     29809\n",
            "\n"
          ]
        }
      ]
    },
    {
      "cell_type": "code",
      "source": [],
      "metadata": {
        "id": "D3XhzXH6TRpZ"
      },
      "execution_count": 97,
      "outputs": []
    }
  ]
}